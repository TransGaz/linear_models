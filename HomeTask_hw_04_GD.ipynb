{
  "nbformat": 4,
  "nbformat_minor": 0,
  "metadata": {
    "colab": {
      "provenance": []
    },
    "kernelspec": {
      "name": "python3",
      "display_name": "Python 3"
    },
    "language_info": {
      "name": "python"
    }
  },
  "cells": [
    {
      "cell_type": "markdown",
      "source": [
        "# Градиентный спуск"
      ],
      "metadata": {
        "id": "UxKHEXFaylYH"
      }
    },
    {
      "cell_type": "code",
      "source": [
        "import random\n",
        "import matplotlib.pyplot as plt\n",
        "import numpy as np"
      ],
      "metadata": {
        "id": "e6hYQKiiGpFq"
      },
      "execution_count": 18,
      "outputs": []
    },
    {
      "cell_type": "markdown",
      "source": [
        "Сгенерируем выборку для задачи регрессии и визуализируем данные"
      ],
      "metadata": {
        "id": "_WvdWPMYz7Iq"
      }
    },
    {
      "cell_type": "code",
      "source": [
        "np.random.seed(42)\n",
        "\n",
        "X = np.linspace(-10,10,100)\n",
        "\n",
        "print(X.shape)\n",
        "\n",
        "y = X * (np.random.random_sample(len(X)) + 0.5)\n",
        "X = X.reshape(len(X), 1)\n",
        "\n",
        "print(X.shape)\n",
        "\n",
        "plt.scatter(X, y);"
      ],
      "metadata": {
        "colab": {
          "base_uri": "https://localhost:8080/",
          "height": 465
        },
        "id": "cIq4zk6kz0jS",
        "outputId": "408dc3e8-2436-4f6d-f4ae-969b42a0800e"
      },
      "execution_count": 19,
      "outputs": [
        {
          "output_type": "stream",
          "name": "stdout",
          "text": [
            "(100,)\n",
            "(100, 1)\n"
          ]
        },
        {
          "output_type": "display_data",
          "data": {
            "text/plain": [
              "<Figure size 640x480 with 1 Axes>"
            ],
            "image/png": "[encoded data removed]"
          },
          "metadata": {}
        }
      ]
    },
    {
      "cell_type": "markdown",
      "source": [
        "Реализуем метод градиентного спуска для обучения линейной регрессии."
      ],
      "metadata": {
        "id": "1YJ9cqoYG-N3"
      }
    },
    {
      "cell_type": "markdown",
      "source": [
        "Сначала напишем функцию для вычисления среднеквадратичной ошибки\n",
        "\n",
        "$MSE = \\frac{1}{m}||Xw - y||^2_2$.\n",
        "\n",
        "Здесь квадратичная ошибка записана в матричном виде, т.е. $X$ - матрица объект-признак, $w$ - вектор весов модели.\n",
        "*  $Xw$ - вектор предсказания модели\n",
        "*  $y$ - вектор правильных ответов,\n",
        "и квадратичная ошибка - это квадрат нормы разности вектора предсказания и вектора правильных ответов.\n",
        "\n",
        "Вычислить норму вектора в python можно разными способами. Здесь мы  воспользуемся готовой функцией из библиотеку numpy - numpy.linalg.norm."
      ],
      "metadata": {
        "id": "uqXcS5A5bLfX"
      }
    },
    {
      "cell_type": "code",
      "source": [
        "def compute_cost(X, y, theta):\n",
        "    m = len(y)\n",
        "\n",
        "    cost = (1./m) * (np.linalg.norm(X @ theta - y) ** 2)\n",
        "    return cost"
      ],
      "metadata": {
        "id": "YEQuDFkiHG4f"
      },
      "execution_count": 20,
      "outputs": []
    },
    {
      "cell_type": "markdown",
      "source": [
        "Реализуем градиентный спуск по формуле\n",
        "\n",
        "$$w_{new} = w_{prev} - \\eta\\nabla_w Q(w_{prev})$$"
      ],
      "metadata": {
        "id": "Cj9DrXzZbOLi"
      }
    },
    {
      "cell_type": "markdown",
      "source": [
        "Вычислим градиент MSE:\n",
        "$$\\nabla_w Q(w)=\\frac2m X^T(Xw-y).$$"
      ],
      "metadata": {
        "id": "nkcALpyjdIAT"
      }
    },
    {
      "cell_type": "markdown",
      "source": [
        "Итак, реализуем метод градиентного спуска:\n",
        "\n",
        "*  первым шагом добавим к матрице $X$ единичный столбец - это константный признак, равный 1 на всех объектах. Он нужен, чтобы записать предсказание линейной регрессии в виде скалярного произведения и тем самым избавиться от знака суммы:\n",
        "$a(x)=w_0+w_1x_1+...+w_dx_d=w_1\\cdot 1+w_1x_1+...w_dx_d=(w,x)$\n",
        "\n",
        "В python скалярное произведение можно записать так: $w@x$\n",
        "\n",
        "*  затем инициализируем случайным образом вектор весов params\n",
        "\n",
        "*  зададим пустой массив cost_track, в который будем записывать ошибку на каждой итерации\n",
        "\n",
        "*  наконец, в цикле по количеству эпох (итераций) будем обновлять веса по формуле градиентного спуска"
      ],
      "metadata": {
        "id": "2jus26KKsKTz"
      }
    },
    {
      "cell_type": "markdown",
      "source": [
        "## Задание 1\n",
        "\n",
        "Добавьте в функцию градиентного спуска из семинара L2-регуляризацию.\n",
        "\n",
        "В этом случае градиент будет считаться по формуле\n",
        "\n",
        "$$\\nabla_w Q(w)=\\frac2m (X^T(Xw-y)+\\lambda w).$$\n",
        "\n",
        "Добавьте в функцию `gradient_descent` гиперпараметр `lambda_`, задайте его по умолчанию равным нулю."
      ],
      "metadata": {
        "id": "GnpEyztDmjVM"
      }
    },
    {
      "cell_type": "code",
      "execution_count": 21,
      "metadata": {
        "id": "o-2MOdaRGlbf"
      },
      "outputs": [],
      "source": [
        "def gradient_descent(X, y, learning_rate, iterations, lambda_ = 0) -> np.array:\n",
        "\n",
        "  X = np.hstack((np.ones((X.shape[0], 1)), X)) # добавляем константный признак (столбец из 1)\n",
        "  w = np.random.rand(X.shape[1]) # инициализируем веса\n",
        "  m = X.shape[0] # число объектов\n",
        "  errors = [] #  MSE\n",
        "\n",
        "  for i in range(iterations):\n",
        "    gradient = 2 / m * (X.T @ (X @ w - y) + lambda_ * w)\n",
        "    param = w - learning_rate * gradient\n",
        "    iter_error = compute_cost(X, y, w)\n",
        "    errors.append(iter_error)\n",
        "    w = param\n",
        "\n",
        "  return w, errors\n"
      ]
    },
    {
      "cell_type": "code",
      "source": [
        "#https://medium.com/@lachlanmiller_52885/understanding-and-calculating-the-cost-function-for-linear-regression-39b8a3519fcb"
      ],
      "metadata": {
        "id": "g2FD4l4ba34S"
      },
      "execution_count": 22,
      "outputs": []
    },
    {
      "cell_type": "markdown",
      "source": [
        "## Задание 2\n",
        "\n",
        "Модифицируйте функцию из задания 1 так, чтобы она осуществляла стохастический градиентный спуск - назовите новую функцию `stochastic_gradient_descent` (она также должна учитывать регуляризацию).\n",
        "\n",
        "* в стохастическом градиентном спуске на каждой итерации метода мы выбираем случайный объект - пусть это будет индекс случайного объекта `ind`\n",
        "\n",
        "* затем применяем обычный градиентный спуск, но с условием, что градиент считается не по всем объектам, а только по объекту с индексом `ind`, поэтому в формуле для обновления весов должно произойти два изменения:\n",
        "  - мы обращаемся не ко всей матрице `X`, а только к одному объекту.\n",
        "\n",
        "  **Подсказка:** чтобы матричная запись не поменялась, мы можем объявить новую матрицу `X_ind = X[ind, :].reshape(-1,1)` и работать с ней.\n",
        "  - при вычислении градиента по одному объекту делить результат на число объектов `m` не требуется."
      ],
      "metadata": {
        "id": "vvBbtaE-n7Yk"
      }
    },
    {
      "cell_type": "code",
      "source": [
        "def stochastic_gradient_descent(X: np.array, y: np.array, learning_rate: float, iterations: int, lambda_=0.0):\n",
        "\n",
        "    X = np.hstack((np.ones((X.shape[0], 1)), X))\n",
        "    w = np.random.rand(X.shape[1]) #.reshape(-1, 1)\n",
        "    errors = []\n",
        "\n",
        "    for i in range(0, iterations):\n",
        "        ind = np.random.randint(X.shape[0])\n",
        "        random_object_X = X[ind, :].reshape(1,-1)\n",
        "        random_object_y = y[ind]\n",
        "\n",
        "        grad_mse = 2*(random_object_X.T @ (random_object_X @ w - random_object_y) + lambda_*w)\n",
        "\n",
        "        w -= learning_rate*grad_mse\n",
        "        errors.append(compute_cost(X, y, w))\n",
        "\n",
        "    return w, errors"
      ],
      "metadata": {
        "id": "4-VngWBHmUxE"
      },
      "execution_count": 30,
      "outputs": []
    },
    {
      "cell_type": "markdown",
      "source": [
        "Создадим функцию для получения предсказания модели"
      ],
      "metadata": {
        "id": "R__qZ_ESbQ98"
      }
    },
    {
      "cell_type": "code",
      "source": [
        "def predict(X, params):\n",
        "    X = np.hstack((np.ones((X.shape[0], 1)), X))\n",
        "    return X @ params"
      ],
      "metadata": {
        "id": "REpiCGpGaVO6"
      },
      "execution_count": 31,
      "outputs": []
    },
    {
      "cell_type": "markdown",
      "source": [
        "## Вопрос 1\n",
        "\n",
        "Примените функцию `gradient_descent` без регуляризации, с шагом 0.01 и 100 итерациями.\n",
        "\n",
        "Чему равен наибольший вес модели? Ответ округлите до сотых."
      ],
      "metadata": {
        "id": "tZh5I2tgpwFN"
      }
    },
    {
      "cell_type": "code",
      "source": [
        "# your code here\n",
        "\n",
        "w, gd_costs = gradient_descent(X, y, learning_rate=0.01, iterations=100, lambda_=0.0)\n",
        "w"
      ],
      "metadata": {
        "id": "yR_Taz95p7xn",
        "colab": {
          "base_uri": "https://localhost:8080/"
        },
        "outputId": "5ea699c7-cd99-4aaf-c764-87c32c6fc65f"
      },
      "execution_count": 62,
      "outputs": [
        {
          "output_type": "execute_result",
          "data": {
            "text/plain": [
              "array([0.10219498, 0.96568968])"
            ]
          },
          "metadata": {},
          "execution_count": 62
        }
      ]
    },
    {
      "cell_type": "markdown",
      "source": [
        "## Вопрос 2\n",
        "\n",
        "Примените функцию `gradient_descent` с коэффициентом регуляризации 1000, с шагом 0.01 и 100 итерациями.\n",
        "\n",
        "Чему равен наибольший вес модели? Ответ округлите до сотых."
      ],
      "metadata": {
        "id": "fpBOWHC6p_VQ"
      }
    },
    {
      "cell_type": "code",
      "source": [
        "# your code here\n",
        "w, _ = gradient_descent(X, y, learning_rate=0.01, iterations=100, lambda_=1000)\n",
        "w"
      ],
      "metadata": {
        "id": "vEVrUAc5p_VR",
        "colab": {
          "base_uri": "https://localhost:8080/"
        },
        "outputId": "7c24d4d2-099c-4715-bb09-d33dac24942f"
      },
      "execution_count": 63,
      "outputs": [
        {
          "output_type": "execute_result",
          "data": {
            "text/plain": [
              "array([0.00316762, 0.74624834])"
            ]
          },
          "metadata": {},
          "execution_count": 63
        }
      ]
    },
    {
      "cell_type": "markdown",
      "source": [
        "## Вопрос 3\n",
        "\n",
        "Примените функцию `stochastic_gradient_descent` без регуляризации, с шагом 0.001 и 100 итерациями.\n",
        "\n",
        "Чему равен наибольший вес модели? Ответ округлите до сотых."
      ],
      "metadata": {
        "id": "69OMY-K2qGZy"
      }
    },
    {
      "cell_type": "code",
      "source": [
        "np.random.seed(42)\n",
        "\n",
        "# your code here\n",
        "w_st, sgd_costs = stochastic_gradient_descent(X, y, learning_rate=0.001, iterations=100)\n",
        "w_st"
      ],
      "metadata": {
        "id": "F5HfroPFqGZ1",
        "colab": {
          "base_uri": "https://localhost:8080/"
        },
        "outputId": "04a6b826-5e42-4724-b596-4e8fdefd7346"
      },
      "execution_count": 64,
      "outputs": [
        {
          "output_type": "execute_result",
          "data": {
            "text/plain": [
              "array([0.27882166, 1.00181914])"
            ]
          },
          "metadata": {},
          "execution_count": 64
        }
      ]
    },
    {
      "cell_type": "markdown",
      "source": [
        "## Вопрос 4\n",
        "\n",
        "Примените функцию `stochastic_gradient_descent` с коэффициентом регуляризации 100, с шагом 0.001 и 100 итерациями.\n",
        "\n",
        "Чему равен наибольший вес модели? Ответ округлите до сотых."
      ],
      "metadata": {
        "id": "9mnbe97RqtA1"
      }
    },
    {
      "cell_type": "code",
      "source": [
        "np.random.seed(42)\n",
        "\n",
        "# your code here\n",
        "\n",
        "w_st, _ = stochastic_gradient_descent(X, y, learning_rate=0.001, iterations=100, lambda_=100)\n",
        "w_st"
      ],
      "metadata": {
        "id": "26_l2uCdqtA3",
        "colab": {
          "base_uri": "https://localhost:8080/"
        },
        "outputId": "93ace87c-ef6e-44c9-eb03-797fa4d657ec"
      },
      "execution_count": 65,
      "outputs": [
        {
          "output_type": "execute_result",
          "data": {
            "text/plain": [
              "array([0.01572833, 0.24921064])"
            ]
          },
          "metadata": {},
          "execution_count": 65
        }
      ]
    },
    {
      "cell_type": "markdown",
      "source": [
        "## Вопрос 5\n",
        "\n",
        "Нарисуйте ошибку в зависимости от номера итерации для GD и SGD на одной картинке. Используйте для обучения в обоих случаях `learning_rate=0.001, iterations=100, lambda_=0.`\n",
        "\n",
        "Можно ли сказать, что оба графика монотонно убывают?"
      ],
      "metadata": {
        "id": "cTsAye0Uq-VW"
      }
    },
    {
      "cell_type": "code",
      "source": [
        "# your code here\n",
        "#cost_array = np.array((np.arange(1, 100), gd_costs, sgd_costs))"
      ],
      "metadata": {
        "id": "pBntkyzDq-Va"
      },
      "execution_count": 66,
      "outputs": []
    },
    {
      "cell_type": "code",
      "source": [
        "nmb = np.arange(0, 100)\n",
        "gd = np.array(gd_costs)\n",
        "sgd = np.array(sgd_costs)"
      ],
      "metadata": {
        "id": "DbVO1_0s99r_"
      },
      "execution_count": 67,
      "outputs": []
    },
    {
      "cell_type": "code",
      "source": [
        "nmb.shape, gd.shape, sgd.shape"
      ],
      "metadata": {
        "colab": {
          "base_uri": "https://localhost:8080/"
        },
        "id": "2URxvwpN-DWM",
        "outputId": "ed885463-1f4b-49d4-e4e5-04a141c9957c"
      },
      "execution_count": 68,
      "outputs": [
        {
          "output_type": "execute_result",
          "data": {
            "text/plain": [
              "((100,), (100,), (100,))"
            ]
          },
          "metadata": {},
          "execution_count": 68
        }
      ]
    },
    {
      "cell_type": "code",
      "source": [
        "fig, ax = plt.subplots()\n",
        "ax.plot(nmb, gd, color='green')\n",
        "ax.plot(nmb, sgd, color='red')\n",
        "ax.set_title('Oшибки в зависимости от номера итерации для GD и SGD')\n",
        "ax.set_xlabel('Номер итерации')\n",
        "ax.set_ylabel('Errors')\n"
      ],
      "metadata": {
        "colab": {
          "base_uri": "https://localhost:8080/",
          "height": 489
        },
        "id": "z70x81Y3-I8W",
        "outputId": "ad7fcdd2-caea-449e-be75-a4c30a39dddf"
      },
      "execution_count": 69,
      "outputs": [
        {
          "output_type": "execute_result",
          "data": {
            "text/plain": [
              "Text(0, 0.5, 'Errors')"
            ]
          },
          "metadata": {},
          "execution_count": 69
        },
        {
          "output_type": "display_data",
          "data": {
            "text/plain": [
              "<Figure size 640x480 with 1 Axes>"
            ],
            "image/png": "[encoded data removed]"
          },
          "metadata": {}
        }
      ]
    },
    {
      "cell_type": "markdown",
      "source": [
        "## Задание (бонус, без проверки)\n",
        "\n",
        "Реализуйте стохастический градиентный спуск с регуляризацией в виде класса. Протестируйте его."
      ],
      "metadata": {
        "id": "7x3Gt7vYrpCq"
      }
    },
    {
      "cell_type": "code",
      "source": [
        "class StochasticGradientDescent:\n",
        "    \"\"\"\n",
        "    Класс реализующий стохастический градиентный спуск с регуляризацией\n",
        "    \"\"\"\n",
        "\n",
        "    def __init__(self) -> None:\n",
        "        self.weights = None  # веса модели\n",
        "        self.errors = None  # массив ошибок при обучении\n",
        "\n",
        "    @staticmethod\n",
        "    def compute_cost(X: np.array, y: np.array, theta: np.array) -> float:\n",
        "        m = len(y)\n",
        "        cost = (1. / m) * (np.linalg.norm(X @ theta - y) ** 2)\n",
        "        return cost\n",
        "\n",
        "    def fit(self, X: np.array, y: np.array, learning_rate: float, iterations: int, reg_coef: float = 0.0) -> None:\n",
        "        X = np.hstack((np.ones((X.shape[0], 1)), X))  # добавляем константный признак (столбец из 1)\n",
        "        params = np.random.rand(X.shape[1])  # инициализируем веса\n",
        "        m = X.shape[0]  # число объектов\n",
        "        cost_track = np.zeros((iterations, 1))  # массив с ошибками (MSE)\n",
        "        for i in range(iterations):\n",
        "            ind = np.random.randint(low=0, high=m)  # генерируем случайный признак\n",
        "            X_ind = X[ind, :].reshape(-1, 1)\n",
        "            params = params - 2 * learning_rate * (X_ind @ ((X_ind.T @ params) - y[ind]) + reg_coef * params)\n",
        "            cost_track[i] = self.compute_cost(X, y, params)\n",
        "        self.weights = params\n",
        "        self.errors = cost_track\n",
        "\n",
        "    def predict(self, X: np.array) -> np.array:\n",
        "        X = np.hstack((np.ones((X.shape[0], 1)), X))\n",
        "        return X @ self.weights"
      ],
      "metadata": {
        "id": "QJQEMrvfrxpf"
      },
      "execution_count": null,
      "outputs": []
    },
    {
      "cell_type": "code",
      "source": [],
      "metadata": {
        "id": "RIrYDbAI68YV"
      },
      "execution_count": null,
      "outputs": []
    }
  ]
}