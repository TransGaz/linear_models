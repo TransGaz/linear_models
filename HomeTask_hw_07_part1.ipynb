{
  "nbformat": 4,
  "nbformat_minor": 0,
  "metadata": {
    "colab": {
      "provenance": []
    },
    "kernelspec": {
      "name": "python3",
      "display_name": "Python 3"
    },
    "language_info": {
      "name": "python"
    }
  },
  "cells": [
    {
      "cell_type": "markdown",
      "source": [
        "# Практическая работа"
      ],
      "metadata": {
        "id": "m9QWlN-lq0qw"
      }
    },
    {
      "cell_type": "markdown",
      "source": [
        "# Задача"
      ],
      "metadata": {
        "id": "4Nb7eTxYWWUe"
      }
    },
    {
      "cell_type": "markdown",
      "source": [
        "Один из способов повысить эффективность взаимодействия банка с клиентами — отправлять предложение о новой услуге не всем клиентам, а только некоторым, которые выбираются по принципу наибольшей склонности к отклику на это предложение.\n",
        "\n",
        "Задача заключается в том, чтобы предложить алгоритм, который будет выдавать склонность клиента к положительному или отрицательному отклику на предложение банка. Предполагается, что, получив такие оценки для некоторого множества клиентов, банк обратится с предложением только к тем, от кого ожидается положительный отклик.\n"
      ],
      "metadata": {
        "id": "ug5TQChn6KiJ"
      }
    },
    {
      "cell_type": "markdown",
      "source": [
        "Для решения этой задачи загрузите файлы из базы в Postgres.\n",
        "Эта БД хранит информацию о клиентах банка и их персональные данные, такие как пол, количество детей и другие.\n",
        "\n",
        "Описание таблиц с данными представлено ниже.\n"
      ],
      "metadata": {
        "id": "5k52FwP156I6"
      }
    },
    {
      "cell_type": "markdown",
      "source": [
        "**D_work**\n",
        "\n",
        "Описание статусов относительно работы:\n",
        "- ID — идентификатор социального статуса клиента относительно работы;\n",
        "- COMMENT — расшифровка статуса.\n",
        "\n",
        "\n",
        "**D_pens**\n",
        "\n",
        "Описание статусов относительно пенсии:\n",
        "- ID — идентификатор социального статуса;\n",
        "- COMMENT — расшифровка статуса.\n",
        "\n",
        "\n",
        "**D_clients**\n",
        "\n",
        "Описание данных клиентов:\n",
        "- ID — идентификатор записи;\n",
        "- AGE\t— возраст клиента;\n",
        "- GENDER — пол клиента (1 — мужчина, 0 — женщина);\n",
        "- EDUCATION — образование;\n",
        "- MARITAL_STATUS — семейное положение;\n",
        "- CHILD_TOTAL\t— количество детей клиента;\n",
        "- DEPENDANTS — количество иждивенцев клиента;\n",
        "- SOCSTATUS_WORK_FL\t— социальный статус клиента относительно работы (1 — работает, 0 — не работает);\n",
        "- SOCSTATUS_PENS_FL\t— социальный статус клиента относительно пенсии (1 — пенсионер, 0 — не пенсионер);\n",
        "- REG_ADDRESS_PROVINCE — область регистрации клиента;\n",
        "- FACT_ADDRESS_PROVINCE — область фактического пребывания клиента;\n",
        "- POSTAL_ADDRESS_PROVINCE — почтовый адрес области;\n",
        "- FL_PRESENCE_FL — наличие в собственности квартиры (1 — есть, 0 — нет);\n",
        "- OWN_AUTO — количество автомобилей в собственности.\n",
        "\n",
        "\n",
        "**D_agreement**\n",
        "\n",
        "Таблица с зафиксированными откликами клиентов на предложения банка:\n",
        "- AGREEMENT_RK — уникальный идентификатор объекта в выборке;\n",
        "- ID_CLIENT — идентификатор клиента;\n",
        "- TARGET — целевая переменная: отклик на маркетинговую кампанию (1 — отклик был зарегистрирован, 0 — отклика не было).\n",
        "    \n",
        "    \n",
        "**D_job**\n",
        "\n",
        "Описание информации о работе клиентов:\n",
        "- GEN_INDUSTRY — отрасль работы клиента;\n",
        "- GEN_TITLE — должность;\n",
        "- JOB_DIR — направление деятельности внутри компании;\n",
        "- WORK_TIME — время работы на текущем месте (в месяцах);\n",
        "- ID_CLIENT — идентификатор клиента.\n",
        "\n",
        "\n",
        "**D_salary**\n",
        "\n",
        "Описание информации о заработной плате клиентов:\n",
        "- ID_CLIENT — идентификатор клиента;\n",
        "- FAMILY_INCOME — семейный доход (несколько категорий);\n",
        "- PERSONAL_INCOME — личный доход клиента (в рублях).\n",
        "\n",
        "\n",
        "**D_last_credit**\n",
        "\n",
        "Информация о последнем займе клиента:\n",
        "- ID_CLIENT — идентификатор клиента;\n",
        "- CREDIT — сумма последнего кредита клиента (в рублях);\n",
        "- TERM — срок кредита;\n",
        "- FST_PAYMENT — первоначальный взнос (в рублях).\n",
        "\n",
        "\n",
        "**D_loan**\n",
        "\n",
        "Информация о кредитной истории клиента:\n",
        "- ID_CLIENT — идентификатор клиента;\n",
        "- ID_LOAN — идентификатор кредита.\n",
        "\n",
        "**D_close_loan**\n",
        "\n",
        "Информация о статусах кредита (ссуд):\n",
        "- ID_LOAN — идентификатор кредита;\n",
        "- CLOSED_FL — текущий статус кредита (1 — закрыт, 0 — не закрыт)."
      ],
      "metadata": {
        "id": "3HYLpuwA6dAw"
      }
    },
    {
      "cell_type": "markdown",
      "source": [
        "Ниже представлен минимальный список колонок, которые должны находиться в итоговом датасете после склейки и агрегации данных. По своему усмотрению вы можете добавить дополнительные к этим колонки."
      ],
      "metadata": {
        "id": "aSCbvJeMKegU"
      }
    },
    {
      "cell_type": "markdown",
      "source": [
        "    - AGREEMENT_RK — уникальный идентификатор объекта в выборке;\n",
        "    - TARGET — целевая переменная: отклик на маркетинговую кампанию (1 — отклик был зарегистрирован, 0 — отклика не было);\n",
        "    - AGE — возраст клиента;\n",
        "    - SOCSTATUS_WORK_FL — социальный статус клиента относительно работы (1 — работает, 0 — не работает);\n",
        "    - SOCSTATUS_PENS_FL — социальный статус клиента относительно пенсии (1 — пенсионер, 0 — не пенсионер);\n",
        "    - GENDER — пол клиента (1 — мужчина, 0 — женщина);\n",
        "    - CHILD_TOTAL — количество детей клиента;\n",
        "    - DEPENDANTS — количество иждивенцев клиента;\n",
        "    - PERSONAL_INCOME — личный доход клиента (в рублях);\n",
        "    - LOAN_NUM_TOTAL — количество ссуд клиента;\n",
        "    - LOAN_NUM_CLOSED — количество погашенных ссуд клиента.\n"
      ],
      "metadata": {
        "id": "xDZKZYCtmbwi"
      }
    },
    {
      "cell_type": "markdown",
      "source": [
        "Будьте внимательны при сборке датасета: это реальные банковские данные, в которых могут наблюдаться дубли, некорректно заполненные значения или значения, противоречащие друг другу. Для получения качественной модели необходимо предварительно очистить датасет от такой информации."
      ],
      "metadata": {
        "id": "EDpojLFeAw2Y"
      }
    },
    {
      "cell_type": "markdown",
      "source": [
        "## Задание 1\n",
        "\n",
        "В предыдущем задании вы собрали всю информацию о клиентах в одну таблицу, где одна строчка соответствует полной информации об одном клиенте.\n",
        "\n",
        "Загрузите эту таблицу."
      ],
      "metadata": {
        "id": "GERgJvyYmQEZ"
      }
    },
    {
      "cell_type": "code",
      "source": [
        "# your code here\n",
        "import pandas as pd"
      ],
      "metadata": {
        "id": "AnHaqRF4uzxP"
      },
      "execution_count": 1,
      "outputs": []
    },
    {
      "cell_type": "code",
      "source": [
        "df = pd.read_csv('datasets/bank_clients.csv')\n",
        "df.info()"
      ],
      "metadata": {
        "colab": {
          "base_uri": "https://localhost:8080/"
        },
        "id": "MJphjH77vBbG",
        "outputId": "0850e3a2-a340-436f-879f-79471080e833"
      },
      "execution_count": 2,
      "outputs": [
        {
          "output_type": "stream",
          "name": "stdout",
          "text": [
            "<class 'pandas.core.frame.DataFrame'>\n",
            "RangeIndex: 15594 entries, 0 to 15593\n",
            "Data columns (total 11 columns):\n",
            " #   Column             Non-Null Count  Dtype  \n",
            "---  ------             --------------  -----  \n",
            " 0   AGREEMENT_RK       15594 non-null  int64  \n",
            " 1   AGE                15594 non-null  int64  \n",
            " 2   SOCSTATUS_WORK_FL  15594 non-null  int64  \n",
            " 3   SOCSTATUS_PENS_FL  15594 non-null  int64  \n",
            " 4   GENDER             15594 non-null  int64  \n",
            " 5   CHILD_TOTAL        15594 non-null  int64  \n",
            " 6   DEPENDANTS         15594 non-null  int64  \n",
            " 7   PERSONAL_INCOME    15594 non-null  float64\n",
            " 8   LOAN_NUM_TOTAL     15594 non-null  int64  \n",
            " 9   LOAN_NUM_CLOSED    15594 non-null  int64  \n",
            " 10  TARGET             15594 non-null  int64  \n",
            "dtypes: float64(1), int64(10)\n",
            "memory usage: 1.3 MB\n"
          ]
        }
      ]
    },
    {
      "cell_type": "code",
      "source": [
        "df.head()"
      ],
      "metadata": {
        "colab": {
          "base_uri": "https://localhost:8080/",
          "height": 226
        },
        "id": "9ZszVqnHvPFX",
        "outputId": "c01113b1-f5b6-480f-f0f0-afea7e8b3970"
      },
      "execution_count": 3,
      "outputs": [
        {
          "output_type": "execute_result",
          "data": {
            "text/plain": [
              "   AGREEMENT_RK  AGE  SOCSTATUS_WORK_FL  SOCSTATUS_PENS_FL  GENDER  \\\n",
              "0      60099204   42                  1                  0       1   \n",
              "1      62244665   28                  1                  0       1   \n",
              "2      61050759   64                  1                  1       0   \n",
              "3      62079659   54                  1                  0       1   \n",
              "4      66583553   26                  1                  0       0   \n",
              "\n",
              "   CHILD_TOTAL  DEPENDANTS  PERSONAL_INCOME  LOAN_NUM_TOTAL  LOAN_NUM_CLOSED  \\\n",
              "0            1           0          25000.0               1                1   \n",
              "1            1           1          10000.0               1                1   \n",
              "2            2           0          30000.0               1                1   \n",
              "3            0           0          25000.0               1                1   \n",
              "4            1           1          15000.0               2                2   \n",
              "\n",
              "   TARGET  \n",
              "0       1  \n",
              "1       0  \n",
              "2       0  \n",
              "3       0  \n",
              "4       0  "
            ],
            "text/html": [
              "\n",
              "  <div id=\"df-1db7776b-4cf9-4ac0-a3ff-170a4b6293d0\" class=\"colab-df-container\">\n",
              "    <div>\n",
              "<style scoped>\n",
              "    .dataframe tbody tr th:only-of-type {\n",
              "        vertical-align: middle;\n",
              "    }\n",
              "\n",
              "    .dataframe tbody tr th {\n",
              "        vertical-align: top;\n",
              "    }\n",
              "\n",
              "    .dataframe thead th {\n",
              "        text-align: right;\n",
              "    }\n",
              "</style>\n",
              "<table border=\"1\" class=\"dataframe\">\n",
              "  <thead>\n",
              "    <tr style=\"text-align: right;\">\n",
              "      <th></th>\n",
              "      <th>AGREEMENT_RK</th>\n",
              "      <th>AGE</th>\n",
              "      <th>SOCSTATUS_WORK_FL</th>\n",
              "      <th>SOCSTATUS_PENS_FL</th>\n",
              "      <th>GENDER</th>\n",
              "      <th>CHILD_TOTAL</th>\n",
              "      <th>DEPENDANTS</th>\n",
              "      <th>PERSONAL_INCOME</th>\n",
              "      <th>LOAN_NUM_TOTAL</th>\n",
              "      <th>LOAN_NUM_CLOSED</th>\n",
              "      <th>TARGET</th>\n",
              "    </tr>\n",
              "  </thead>\n",
              "  <tbody>\n",
              "    <tr>\n",
              "      <th>0</th>\n",
              "      <td>60099204</td>\n",
              "      <td>42</td>\n",
              "      <td>1</td>\n",
              "      <td>0</td>\n",
              "      <td>1</td>\n",
              "      <td>1</td>\n",
              "      <td>0</td>\n",
              "      <td>25000.0</td>\n",
              "      <td>1</td>\n",
              "      <td>1</td>\n",
              "      <td>1</td>\n",
              "    </tr>\n",
              "    <tr>\n",
              "      <th>1</th>\n",
              "      <td>62244665</td>\n",
              "      <td>28</td>\n",
              "      <td>1</td>\n",
              "      <td>0</td>\n",
              "      <td>1</td>\n",
              "      <td>1</td>\n",
              "      <td>1</td>\n",
              "      <td>10000.0</td>\n",
              "      <td>1</td>\n",
              "      <td>1</td>\n",
              "      <td>0</td>\n",
              "    </tr>\n",
              "    <tr>\n",
              "      <th>2</th>\n",
              "      <td>61050759</td>\n",
              "      <td>64</td>\n",
              "      <td>1</td>\n",
              "      <td>1</td>\n",
              "      <td>0</td>\n",
              "      <td>2</td>\n",
              "      <td>0</td>\n",
              "      <td>30000.0</td>\n",
              "      <td>1</td>\n",
              "      <td>1</td>\n",
              "      <td>0</td>\n",
              "    </tr>\n",
              "    <tr>\n",
              "      <th>3</th>\n",
              "      <td>62079659</td>\n",
              "      <td>54</td>\n",
              "      <td>1</td>\n",
              "      <td>0</td>\n",
              "      <td>1</td>\n",
              "      <td>0</td>\n",
              "      <td>0</td>\n",
              "      <td>25000.0</td>\n",
              "      <td>1</td>\n",
              "      <td>1</td>\n",
              "      <td>0</td>\n",
              "    </tr>\n",
              "    <tr>\n",
              "      <th>4</th>\n",
              "      <td>66583553</td>\n",
              "      <td>26</td>\n",
              "      <td>1</td>\n",
              "      <td>0</td>\n",
              "      <td>0</td>\n",
              "      <td>1</td>\n",
              "      <td>1</td>\n",
              "      <td>15000.0</td>\n",
              "      <td>2</td>\n",
              "      <td>2</td>\n",
              "      <td>0</td>\n",
              "    </tr>\n",
              "  </tbody>\n",
              "</table>\n",
              "</div>\n",
              "    <div class=\"colab-df-buttons\">\n",
              "\n",
              "  <div class=\"colab-df-container\">\n",
              "    <button class=\"colab-df-convert\" onclick=\"convertToInteractive('df-1db7776b-4cf9-4ac0-a3ff-170a4b6293d0')\"\n",
              "            title=\"Convert this dataframe to an interactive table.\"\n",
              "            style=\"display:none;\">\n",
              "\n",
              "  <svg xmlns=\"http://www.w3.org/2000/svg\" height=\"24px\" viewBox=\"0 -960 960 960\">\n",
              "    <path d=\"M120-120v-720h720v720H120Zm60-500h600v-160H180v160Zm220 220h160v-160H400v160Zm0 220h160v-160H400v160ZM180-400h160v-160H180v160Zm440 0h160v-160H620v160ZM180-180h160v-160H180v160Zm440 0h160v-160H620v160Z\"/>\n",
              "  </svg>\n",
              "    </button>\n",
              "\n",
              "  <style>\n",
              "    .colab-df-container {\n",
              "      display:flex;\n",
              "      gap: 12px;\n",
              "    }\n",
              "\n",
              "    .colab-df-convert {\n",
              "      background-color: #E8F0FE;\n",
              "      border: none;\n",
              "      border-radius: 50%;\n",
              "      cursor: pointer;\n",
              "      display: none;\n",
              "      fill: #1967D2;\n",
              "      height: 32px;\n",
              "      padding: 0 0 0 0;\n",
              "      width: 32px;\n",
              "    }\n",
              "\n",
              "    .colab-df-convert:hover {\n",
              "      background-color: #E2EBFA;\n",
              "      box-shadow: 0px 1px 2px rgba(60, 64, 67, 0.3), 0px 1px 3px 1px rgba(60, 64, 67, 0.15);\n",
              "      fill: #174EA6;\n",
              "    }\n",
              "\n",
              "    .colab-df-buttons div {\n",
              "      margin-bottom: 4px;\n",
              "    }\n",
              "\n",
              "    [theme=dark] .colab-df-convert {\n",
              "      background-color: #3B4455;\n",
              "      fill: #D2E3FC;\n",
              "    }\n",
              "\n",
              "    [theme=dark] .colab-df-convert:hover {\n",
              "      background-color: #434B5C;\n",
              "      box-shadow: 0px 1px 3px 1px rgba(0, 0, 0, 0.15);\n",
              "      filter: drop-shadow(0px 1px 2px rgba(0, 0, 0, 0.3));\n",
              "      fill: #FFFFFF;\n",
              "    }\n",
              "  </style>\n",
              "\n",
              "    <script>\n",
              "      const buttonEl =\n",
              "        document.querySelector('#df-1db7776b-4cf9-4ac0-a3ff-170a4b6293d0 button.colab-df-convert');\n",
              "      buttonEl.style.display =\n",
              "        google.colab.kernel.accessAllowed ? 'block' : 'none';\n",
              "\n",
              "      async function convertToInteractive(key) {\n",
              "        const element = document.querySelector('#df-1db7776b-4cf9-4ac0-a3ff-170a4b6293d0');\n",
              "        const dataTable =\n",
              "          await google.colab.kernel.invokeFunction('convertToInteractive',\n",
              "                                                    [key], {});\n",
              "        if (!dataTable) return;\n",
              "\n",
              "        const docLinkHtml = 'Like what you see? Visit the ' +\n",
              "          '<a target=\"_blank\" href=https://colab.research.google.com/notebooks/data_table.ipynb>data table notebook</a>'\n",
              "          + ' to learn more about interactive tables.';\n",
              "        element.innerHTML = '';\n",
              "        dataTable['output_type'] = 'display_data';\n",
              "        await google.colab.output.renderOutput(dataTable, element);\n",
              "        const docLink = document.createElement('div');\n",
              "        docLink.innerHTML = docLinkHtml;\n",
              "        element.appendChild(docLink);\n",
              "      }\n",
              "    </script>\n",
              "  </div>\n",
              "\n",
              "\n",
              "<div id=\"df-c99ae5e6-a8c3-47d1-a226-d8e941887f41\">\n",
              "  <button class=\"colab-df-quickchart\" onclick=\"quickchart('df-c99ae5e6-a8c3-47d1-a226-d8e941887f41')\"\n",
              "            title=\"Suggest charts\"\n",
              "            style=\"display:none;\">\n",
              "\n",
              "<svg xmlns=\"http://www.w3.org/2000/svg\" height=\"24px\"viewBox=\"0 0 24 24\"\n",
              "     width=\"24px\">\n",
              "    <g>\n",
              "        <path d=\"M19 3H5c-1.1 0-2 .9-2 2v14c0 1.1.9 2 2 2h14c1.1 0 2-.9 2-2V5c0-1.1-.9-2-2-2zM9 17H7v-7h2v7zm4 0h-2V7h2v10zm4 0h-2v-4h2v4z\"/>\n",
              "    </g>\n",
              "</svg>\n",
              "  </button>\n",
              "\n",
              "<style>\n",
              "  .colab-df-quickchart {\n",
              "      --bg-color: #E8F0FE;\n",
              "      --fill-color: #1967D2;\n",
              "      --hover-bg-color: #E2EBFA;\n",
              "      --hover-fill-color: #174EA6;\n",
              "      --disabled-fill-color: #AAA;\n",
              "      --disabled-bg-color: #DDD;\n",
              "  }\n",
              "\n",
              "  [theme=dark] .colab-df-quickchart {\n",
              "      --bg-color: #3B4455;\n",
              "      --fill-color: #D2E3FC;\n",
              "      --hover-bg-color: #434B5C;\n",
              "      --hover-fill-color: #FFFFFF;\n",
              "      --disabled-bg-color: #3B4455;\n",
              "      --disabled-fill-color: #666;\n",
              "  }\n",
              "\n",
              "  .colab-df-quickchart {\n",
              "    background-color: var(--bg-color);\n",
              "    border: none;\n",
              "    border-radius: 50%;\n",
              "    cursor: pointer;\n",
              "    display: none;\n",
              "    fill: var(--fill-color);\n",
              "    height: 32px;\n",
              "    padding: 0;\n",
              "    width: 32px;\n",
              "  }\n",
              "\n",
              "  .colab-df-quickchart:hover {\n",
              "    background-color: var(--hover-bg-color);\n",
              "    box-shadow: 0 1px 2px rgba(60, 64, 67, 0.3), 0 1px 3px 1px rgba(60, 64, 67, 0.15);\n",
              "    fill: var(--button-hover-fill-color);\n",
              "  }\n",
              "\n",
              "  .colab-df-quickchart-complete:disabled,\n",
              "  .colab-df-quickchart-complete:disabled:hover {\n",
              "    background-color: var(--disabled-bg-color);\n",
              "    fill: var(--disabled-fill-color);\n",
              "    box-shadow: none;\n",
              "  }\n",
              "\n",
              "  .colab-df-spinner {\n",
              "    border: 2px solid var(--fill-color);\n",
              "    border-color: transparent;\n",
              "    border-bottom-color: var(--fill-color);\n",
              "    animation:\n",
              "      spin 1s steps(1) infinite;\n",
              "  }\n",
              "\n",
              "  @keyframes spin {\n",
              "    0% {\n",
              "      border-color: transparent;\n",
              "      border-bottom-color: var(--fill-color);\n",
              "      border-left-color: var(--fill-color);\n",
              "    }\n",
              "    20% {\n",
              "      border-color: transparent;\n",
              "      border-left-color: var(--fill-color);\n",
              "      border-top-color: var(--fill-color);\n",
              "    }\n",
              "    30% {\n",
              "      border-color: transparent;\n",
              "      border-left-color: var(--fill-color);\n",
              "      border-top-color: var(--fill-color);\n",
              "      border-right-color: var(--fill-color);\n",
              "    }\n",
              "    40% {\n",
              "      border-color: transparent;\n",
              "      border-right-color: var(--fill-color);\n",
              "      border-top-color: var(--fill-color);\n",
              "    }\n",
              "    60% {\n",
              "      border-color: transparent;\n",
              "      border-right-color: var(--fill-color);\n",
              "    }\n",
              "    80% {\n",
              "      border-color: transparent;\n",
              "      border-right-color: var(--fill-color);\n",
              "      border-bottom-color: var(--fill-color);\n",
              "    }\n",
              "    90% {\n",
              "      border-color: transparent;\n",
              "      border-bottom-color: var(--fill-color);\n",
              "    }\n",
              "  }\n",
              "</style>\n",
              "\n",
              "  <script>\n",
              "    async function quickchart(key) {\n",
              "      const quickchartButtonEl =\n",
              "        document.querySelector('#' + key + ' button');\n",
              "      quickchartButtonEl.disabled = true;  // To prevent multiple clicks.\n",
              "      quickchartButtonEl.classList.add('colab-df-spinner');\n",
              "      try {\n",
              "        const charts = await google.colab.kernel.invokeFunction(\n",
              "            'suggestCharts', [key], {});\n",
              "      } catch (error) {\n",
              "        console.error('Error during call to suggestCharts:', error);\n",
              "      }\n",
              "      quickchartButtonEl.classList.remove('colab-df-spinner');\n",
              "      quickchartButtonEl.classList.add('colab-df-quickchart-complete');\n",
              "    }\n",
              "    (() => {\n",
              "      let quickchartButtonEl =\n",
              "        document.querySelector('#df-c99ae5e6-a8c3-47d1-a226-d8e941887f41 button');\n",
              "      quickchartButtonEl.style.display =\n",
              "        google.colab.kernel.accessAllowed ? 'block' : 'none';\n",
              "    })();\n",
              "  </script>\n",
              "</div>\n",
              "    </div>\n",
              "  </div>\n"
            ],
            "application/vnd.google.colaboratory.intrinsic+json": {
              "type": "dataframe",
              "variable_name": "df",
              "summary": "{\n  \"name\": \"df\",\n  \"rows\": 15594,\n  \"fields\": [\n    {\n      \"column\": \"AGREEMENT_RK\",\n      \"properties\": {\n        \"dtype\": \"number\",\n        \"std\": 10941732,\n        \"min\": 0,\n        \"max\": 75292242,\n        \"num_unique_values\": 15224,\n        \"samples\": [\n          63599647,\n          64277933,\n          62952346\n        ],\n        \"semantic_type\": \"\",\n        \"description\": \"\"\n      }\n    },\n    {\n      \"column\": \"AGE\",\n      \"properties\": {\n        \"dtype\": \"number\",\n        \"std\": 11,\n        \"min\": 21,\n        \"max\": 67,\n        \"num_unique_values\": 47,\n        \"samples\": [\n          36,\n          49,\n          33\n        ],\n        \"semantic_type\": \"\",\n        \"description\": \"\"\n      }\n    },\n    {\n      \"column\": \"SOCSTATUS_WORK_FL\",\n      \"properties\": {\n        \"dtype\": \"number\",\n        \"std\": 0,\n        \"min\": 0,\n        \"max\": 1,\n        \"num_unique_values\": 2,\n        \"samples\": [\n          0,\n          1\n        ],\n        \"semantic_type\": \"\",\n        \"description\": \"\"\n      }\n    },\n    {\n      \"column\": \"SOCSTATUS_PENS_FL\",\n      \"properties\": {\n        \"dtype\": \"number\",\n        \"std\": 0,\n        \"min\": 0,\n        \"max\": 1,\n        \"num_unique_values\": 2,\n        \"samples\": [\n          1,\n          0\n        ],\n        \"semantic_type\": \"\",\n        \"description\": \"\"\n      }\n    },\n    {\n      \"column\": \"GENDER\",\n      \"properties\": {\n        \"dtype\": \"number\",\n        \"std\": 0,\n        \"min\": 0,\n        \"max\": 1,\n        \"num_unique_values\": 2,\n        \"samples\": [\n          0,\n          1\n        ],\n        \"semantic_type\": \"\",\n        \"description\": \"\"\n      }\n    },\n    {\n      \"column\": \"CHILD_TOTAL\",\n      \"properties\": {\n        \"dtype\": \"number\",\n        \"std\": 0,\n        \"min\": 0,\n        \"max\": 10,\n        \"num_unique_values\": 10,\n        \"samples\": [\n          7,\n          2\n        ],\n        \"semantic_type\": \"\",\n        \"description\": \"\"\n      }\n    },\n    {\n      \"column\": \"DEPENDANTS\",\n      \"properties\": {\n        \"dtype\": \"number\",\n        \"std\": 0,\n        \"min\": 0,\n        \"max\": 7,\n        \"num_unique_values\": 8,\n        \"samples\": [\n          1,\n          6\n        ],\n        \"semantic_type\": \"\",\n        \"description\": \"\"\n      }\n    },\n    {\n      \"column\": \"PERSONAL_INCOME\",\n      \"properties\": {\n        \"dtype\": \"number\",\n        \"std\": 9154.380475748036,\n        \"min\": 0.0,\n        \"max\": 250000.0,\n        \"num_unique_values\": 275,\n        \"samples\": [\n          14000.0,\n          38000.0\n        ],\n        \"semantic_type\": \"\",\n        \"description\": \"\"\n      }\n    },\n    {\n      \"column\": \"LOAN_NUM_TOTAL\",\n      \"properties\": {\n        \"dtype\": \"number\",\n        \"std\": 0,\n        \"min\": 0,\n        \"max\": 11,\n        \"num_unique_values\": 10,\n        \"samples\": [\n          8,\n          2\n        ],\n        \"semantic_type\": \"\",\n        \"description\": \"\"\n      }\n    },\n    {\n      \"column\": \"LOAN_NUM_CLOSED\",\n      \"properties\": {\n        \"dtype\": \"number\",\n        \"std\": 0,\n        \"min\": 0,\n        \"max\": 11,\n        \"num_unique_values\": 10,\n        \"samples\": [\n          8,\n          2\n        ],\n        \"semantic_type\": \"\",\n        \"description\": \"\"\n      }\n    },\n    {\n      \"column\": \"TARGET\",\n      \"properties\": {\n        \"dtype\": \"number\",\n        \"std\": 0,\n        \"min\": 0,\n        \"max\": 1,\n        \"num_unique_values\": 2,\n        \"samples\": [\n          0,\n          1\n        ],\n        \"semantic_type\": \"\",\n        \"description\": \"\"\n      }\n    }\n  ]\n}"
            }
          },
          "metadata": {},
          "execution_count": 3
        }
      ]
    },
    {
      "cell_type": "markdown",
      "source": [
        "Разбейте данные на тренировочную и тестовую часть в пропорции 80% к 20%, зафиксируйте `random_state = 42`."
      ],
      "metadata": {
        "id": "qrbnMjIHu1hq"
      }
    },
    {
      "cell_type": "code",
      "source": [
        "# your code here\n",
        "X = df.drop(['TARGET', 'AGREEMENT_RK'], axis=1)\n",
        "y = df['TARGET']"
      ],
      "metadata": {
        "id": "W__PbhFeu1qC"
      },
      "execution_count": 4,
      "outputs": []
    },
    {
      "cell_type": "code",
      "source": [
        "from sklearn.model_selection import train_test_split\n",
        "\n",
        "X_train, X_test, y_train, y_test = train_test_split(X , y, test_size=0.2, random_state=42)"
      ],
      "metadata": {
        "id": "HK2w_ZQMvd8d"
      },
      "execution_count": 5,
      "outputs": []
    },
    {
      "cell_type": "code",
      "source": [],
      "metadata": {
        "id": "FNeKB-4xvlJV"
      },
      "execution_count": 6,
      "outputs": []
    },
    {
      "cell_type": "markdown",
      "source": [
        "На тренировочных данных обучите линейную модель классификации для предсказания целевой переменной (столбец `TARGET`).\n",
        "\n",
        "Сделайте прогноз вероятности отклика на рекламную кампанию для тестовых данных."
      ],
      "metadata": {
        "id": "KlT4qPSAu-iJ"
      }
    },
    {
      "cell_type": "code",
      "source": [
        "# your code here\n",
        "from sklearn.linear_model import LogisticRegression\n",
        "\n",
        "model =LogisticRegression()\n",
        "model.fit(X_train, y_train)\n",
        "pred_test = model.predict(X_test) # предсказание класса"
      ],
      "metadata": {
        "id": "eblrenlau-qw"
      },
      "execution_count": 7,
      "outputs": []
    },
    {
      "cell_type": "markdown",
      "source": [
        "Переведите вероятности в классы по стандартному порогу (0.5) и на тестовом наборе данных вычислите метрики:\n",
        "\n",
        "* accuracy\n",
        "* precision\n",
        "* recall\n",
        "* f1-score"
      ],
      "metadata": {
        "id": "DU2v7ELEvgGF"
      }
    },
    {
      "cell_type": "code",
      "source": [
        "# your code here\n",
        "pred_test[:25]"
      ],
      "metadata": {
        "id": "9Uc5AmYXvgOb",
        "colab": {
          "base_uri": "https://localhost:8080/"
        },
        "outputId": "f68da009-12fc-4f30-f224-56e6d7f82cee"
      },
      "execution_count": 8,
      "outputs": [
        {
          "output_type": "execute_result",
          "data": {
            "text/plain": [
              "array([0, 0, 0, 0, 0, 0, 0, 0, 0, 0, 0, 0, 0, 0, 0, 0, 0, 0, 0, 0, 0, 0,\n",
              "       0, 0, 0])"
            ]
          },
          "metadata": {},
          "execution_count": 8
        }
      ]
    },
    {
      "cell_type": "code",
      "source": [
        "from sklearn.metrics import accuracy_score, precision_score, recall_score, f1_score, confusion_matrix\n",
        "\n",
        "accuracy_score(y_test, pred_test)"
      ],
      "metadata": {
        "colab": {
          "base_uri": "https://localhost:8080/"
        },
        "id": "62UPDGKayfPH",
        "outputId": "3f9c0801-b5f7-4faf-a7d3-5ac94e4f1d07"
      },
      "execution_count": 9,
      "outputs": [
        {
          "output_type": "execute_result",
          "data": {
            "text/plain": [
              "0.8788073100352677"
            ]
          },
          "metadata": {},
          "execution_count": 9
        }
      ]
    },
    {
      "cell_type": "code",
      "source": [
        "y.value_counts(normalize=True)"
      ],
      "metadata": {
        "colab": {
          "base_uri": "https://localhost:8080/",
          "height": 178
        },
        "id": "zUfNWyYDzPfn",
        "outputId": "ee950c83-db76-429b-b074-b32b6cccb416"
      },
      "execution_count": 10,
      "outputs": [
        {
          "output_type": "execute_result",
          "data": {
            "text/plain": [
              "TARGET\n",
              "0    0.883801\n",
              "1    0.116199\n",
              "Name: proportion, dtype: float64"
            ],
            "text/html": [
              "<div>\n",
              "<style scoped>\n",
              "    .dataframe tbody tr th:only-of-type {\n",
              "        vertical-align: middle;\n",
              "    }\n",
              "\n",
              "    .dataframe tbody tr th {\n",
              "        vertical-align: top;\n",
              "    }\n",
              "\n",
              "    .dataframe thead th {\n",
              "        text-align: right;\n",
              "    }\n",
              "</style>\n",
              "<table border=\"1\" class=\"dataframe\">\n",
              "  <thead>\n",
              "    <tr style=\"text-align: right;\">\n",
              "      <th></th>\n",
              "      <th>proportion</th>\n",
              "    </tr>\n",
              "    <tr>\n",
              "      <th>TARGET</th>\n",
              "      <th></th>\n",
              "    </tr>\n",
              "  </thead>\n",
              "  <tbody>\n",
              "    <tr>\n",
              "      <th>0</th>\n",
              "      <td>0.883801</td>\n",
              "    </tr>\n",
              "    <tr>\n",
              "      <th>1</th>\n",
              "      <td>0.116199</td>\n",
              "    </tr>\n",
              "  </tbody>\n",
              "</table>\n",
              "</div><br><label><b>dtype:</b> float64</label>"
            ]
          },
          "metadata": {},
          "execution_count": 10
        }
      ]
    },
    {
      "cell_type": "markdown",
      "source": [
        "имеется дисбаланс классов"
      ],
      "metadata": {
        "id": "_GMFrg6azkce"
      }
    },
    {
      "cell_type": "code",
      "source": [
        "confusion_matrix(y_test, pred_test)"
      ],
      "metadata": {
        "colab": {
          "base_uri": "https://localhost:8080/"
        },
        "id": "FyIx9dbQzuS3",
        "outputId": "1afadb7b-dddb-4bb2-b7bb-fb8f39fea1f5"
      },
      "execution_count": 11,
      "outputs": [
        {
          "output_type": "execute_result",
          "data": {
            "text/plain": [
              "array([[2741,    2],\n",
              "       [ 376,    0]])"
            ]
          },
          "metadata": {},
          "execution_count": 11
        }
      ]
    },
    {
      "cell_type": "markdown",
      "source": [
        "### *Для 2741 клиентов, которые не откликнулись модель ошибочно предсказала двоих. 376 клиентов которые сотрудничали и откликнулись, модель записала в неоткликнувшиеся*"
      ],
      "metadata": {
        "id": "4fDHlmmjz9dR"
      }
    },
    {
      "cell_type": "code",
      "source": [
        "prob = model.predict_proba(X_test)\n",
        "prob[:7]"
      ],
      "metadata": {
        "colab": {
          "base_uri": "https://localhost:8080/"
        },
        "id": "Qqny0Y561Yiz",
        "outputId": "b0841110-51fe-4789-df80-a32d259a2248"
      },
      "execution_count": 13,
      "outputs": [
        {
          "output_type": "execute_result",
          "data": {
            "text/plain": [
              "array([[0.89354728, 0.10645272],\n",
              "       [0.92097352, 0.07902648],\n",
              "       [0.88826962, 0.11173038],\n",
              "       [0.8602438 , 0.1397562 ],\n",
              "       [0.85670925, 0.14329075],\n",
              "       [0.78540853, 0.21459147],\n",
              "       [0.83890955, 0.16109045]])"
            ]
          },
          "metadata": {},
          "execution_count": 13
        }
      ]
    },
    {
      "cell_type": "code",
      "source": [
        "prob_churn = prob[:,1]\n",
        "classes = prob_churn > 0.5"
      ],
      "metadata": {
        "id": "MnArKr7P1yIQ"
      },
      "execution_count": 14,
      "outputs": []
    },
    {
      "cell_type": "code",
      "source": [
        "print(f\"Accuracy: {accuracy_score(y_test, classes)}\")\n",
        "print(f\"Precision: {precision_score(y_test, classes)}\")\n",
        "print(f\"Recall: {recall_score(y_test, classes)}\")\n",
        "print(f\"f1: {f1_score(y_test, classes)}\")"
      ],
      "metadata": {
        "colab": {
          "base_uri": "https://localhost:8080/"
        },
        "id": "JtMe9eF82ChP",
        "outputId": "cacc80dc-d4a0-4d74-f2ea-49fc0c604d4e"
      },
      "execution_count": 16,
      "outputs": [
        {
          "output_type": "stream",
          "name": "stdout",
          "text": [
            "Accuracy: 0.8788073100352677\n",
            "Precision: 0.0\n",
            "Recall: 0.0\n",
            "f1: 0.0\n"
          ]
        }
      ]
    },
    {
      "cell_type": "code",
      "source": [
        "confusion_matrix(y_test, classes)"
      ],
      "metadata": {
        "colab": {
          "base_uri": "https://localhost:8080/"
        },
        "id": "geWOmL7R2qgP",
        "outputId": "bfb8daf3-4f08-4518-d1a0-4725e1cf4285"
      },
      "execution_count": 17,
      "outputs": [
        {
          "output_type": "execute_result",
          "data": {
            "text/plain": [
              "array([[2741,    2],\n",
              "       [ 376,    0]])"
            ]
          },
          "metadata": {},
          "execution_count": 17
        }
      ]
    },
    {
      "cell_type": "markdown",
      "source": [
        "Целевая метрика для задачи - полнота, так как нам нужно найти максимум клиентов, кто может откликнуться на рекламу.\n",
        "\n",
        "Но при этом точность не должна просесть, поэтому за ней тоже следим."
      ],
      "metadata": {
        "id": "Ft9XQp4Dxs-Z"
      }
    },
    {
      "cell_type": "markdown",
      "source": [
        "Разбейте тренировочные данные на `train` и `val` части в пропорции 3 к 1.\n",
        "\n",
        "В цикле:\n",
        "\n",
        "* переберите пороги от 0 до 1 с шагом 0.01\n",
        "* вычислите для каждого порога значение метрик precision и recall\n",
        "* подберите такой порог, при котором recall не меньше 0.66, а точность максимальна."
      ],
      "metadata": {
        "id": "JFPAsh0-xWak"
      }
    },
    {
      "cell_type": "code",
      "source": [
        "# your code here\n",
        "df = pd.read_csv('datasets/bank_clients.csv')\n",
        "\n",
        "X = df.drop(['TARGET', 'AGREEMENT_RK'], axis=1)\n",
        "y = df['TARGET']\n",
        "\n",
        "X_train, X_val, y_train, y_val = train_test_split(X , y, test_size=0.25, random_state=42)\n",
        "\n",
        "\n",
        "\n"
      ],
      "metadata": {
        "id": "jTs9xG4AyQ5t"
      },
      "execution_count": 18,
      "outputs": []
    },
    {
      "cell_type": "code",
      "source": [
        "max_precision = -1\n",
        "border = 0\n",
        "i = 0\n",
        "\n",
        "model =LogisticRegression()\n",
        "model.fit(X_train, y_train)\n",
        "pred_test = model.predict(X_val)\n",
        "\n",
        "prob = model.predict_proba(X_val)\n",
        "prob_churn = prob[:,1]\n",
        "\n",
        "while i <=1:\n",
        "  classes = prob_churn > i\n",
        "  if (recall_score(y_val, classes) >= 0.66) and (precision_score(y_val, classes) > max_precision):\n",
        "    border = i\n",
        "    max_precision = precision_score(y_val, classes)\n",
        "  i += 0.01\n",
        "\n",
        "\n"
      ],
      "metadata": {
        "id": "KNTJwf9g4OQh"
      },
      "execution_count": 19,
      "outputs": []
    },
    {
      "cell_type": "code",
      "source": [
        "border, max_precision"
      ],
      "metadata": {
        "colab": {
          "base_uri": "https://localhost:8080/"
        },
        "id": "ukzbiLMr6_Dh",
        "outputId": "2594e6a5-f8d1-40c5-ebc1-1c3784a96670"
      },
      "execution_count": 20,
      "outputs": [
        {
          "output_type": "execute_result",
          "data": {
            "text/plain": [
              "(0.09999999999999999, 0.14530310041647385)"
            ]
          },
          "metadata": {},
          "execution_count": 20
        }
      ]
    },
    {
      "cell_type": "markdown",
      "source": [
        "Для выбранного порога посчитайте все метрики на тестовых данных. Сильно ли они отличаются от метрик на валидации?"
      ],
      "metadata": {
        "id": "39s_laFMyQfN"
      }
    },
    {
      "cell_type": "code",
      "source": [
        "# your code here\n",
        "classes = prob_churn > border\n",
        "\n",
        "print(f\"Accuracy: {accuracy_score(y_val, classes)}\")\n",
        "print(f\"Precision: {precision_score(y_val, classes)}\")\n",
        "print(f\"Recall: {recall_score(y_val, classes)}\")\n",
        "print(f\"f1: {f1_score(y_val, classes)}\")\n"
      ],
      "metadata": {
        "id": "BxeBB8ruyks8",
        "colab": {
          "base_uri": "https://localhost:8080/"
        },
        "outputId": "ac772171-79a5-464f-d322-20cc770602a1"
      },
      "execution_count": 22,
      "outputs": [
        {
          "output_type": "stream",
          "name": "stdout",
          "text": [
            "Accuracy: 0.4888432931520903\n",
            "Precision: 0.14530310041647385\n",
            "Recall: 0.6826086956521739\n",
            "f1: 0.23960320488363218\n"
          ]
        }
      ]
    },
    {
      "cell_type": "code",
      "source": [
        "confusion_matrix(y_val, classes)"
      ],
      "metadata": {
        "colab": {
          "base_uri": "https://localhost:8080/"
        },
        "id": "V84LVcGW752K",
        "outputId": "4e9cb6a1-6cce-40cb-ba45-0686a41c16de"
      },
      "execution_count": 23,
      "outputs": [
        {
          "output_type": "execute_result",
          "data": {
            "text/plain": [
              "array([[1592, 1847],\n",
              "       [ 146,  314]])"
            ]
          },
          "metadata": {},
          "execution_count": 23
        }
      ]
    },
    {
      "cell_type": "code",
      "source": [],
      "metadata": {
        "id": "DO_6yIEO8o35"
      },
      "execution_count": null,
      "outputs": []
    },
    {
      "cell_type": "markdown",
      "source": [
        "*Модель выявила 314 клиентов с обратным откликом*"
      ],
      "metadata": {
        "id": "XUlJIdVu8YOR"
      }
    },
    {
      "cell_type": "markdown",
      "source": [
        "Выведите на экран в виде таблицы топ-6 признаков с наибольшими по модулю весами модели."
      ],
      "metadata": {
        "id": "LH7vX8nqyj5r"
      }
    },
    {
      "cell_type": "code",
      "source": [
        "# your code here\n",
        "\n",
        "weights = sorted(model.coef_[0], key=abs, reverse=True)\n",
        "weights[:6]"
      ],
      "metadata": {
        "id": "QxZ-IogCyxot",
        "colab": {
          "base_uri": "https://localhost:8080/"
        },
        "outputId": "cde5b94d-b310-4e2c-bf8f-0051515c4bcf"
      },
      "execution_count": 24,
      "outputs": [
        {
          "output_type": "execute_result",
          "data": {
            "text/plain": [
              "[-0.05857324262600664,\n",
              " -0.0016170588322582896,\n",
              " -0.0016170588322582896,\n",
              " -0.001424406691465322,\n",
              " -0.0010526453001183963,\n",
              " -0.0008861125250719087]"
            ]
          },
          "metadata": {},
          "execution_count": 24
        }
      ]
    },
    {
      "cell_type": "code",
      "source": [
        "weights = weights[:6]"
      ],
      "metadata": {
        "id": "7FPwLDY-9ZKB"
      },
      "execution_count": 25,
      "outputs": []
    },
    {
      "cell_type": "code",
      "source": [
        "coef_table = pd.DataFrame({'features': list(X_train.columns), 'weights': list(model.coef_[0])})\n",
        "coef_table.sort_values(by='weights')"
      ],
      "metadata": {
        "colab": {
          "base_uri": "https://localhost:8080/",
          "height": 331
        },
        "id": "BFQW6S299h6h",
        "outputId": "7a52c37f-89f2-4c22-e0b5-0ed5423f8e08"
      },
      "execution_count": 26,
      "outputs": [
        {
          "output_type": "execute_result",
          "data": {
            "text/plain": [
              "            features   weights\n",
              "0                AGE -0.058573\n",
              "7     LOAN_NUM_TOTAL -0.001617\n",
              "8    LOAN_NUM_CLOSED -0.001617\n",
              "4        CHILD_TOTAL -0.001424\n",
              "3             GENDER -0.001053\n",
              "1  SOCSTATUS_WORK_FL -0.000886\n",
              "5         DEPENDANTS -0.000536\n",
              "2  SOCSTATUS_PENS_FL -0.000417\n",
              "6    PERSONAL_INCOME  0.000018"
            ],
            "text/html": [
              "\n",
              "  <div id=\"df-cd9337d8-281a-46da-bdeb-a1ea7e40a235\" class=\"colab-df-container\">\n",
              "    <div>\n",
              "<style scoped>\n",
              "    .dataframe tbody tr th:only-of-type {\n",
              "        vertical-align: middle;\n",
              "    }\n",
              "\n",
              "    .dataframe tbody tr th {\n",
              "        vertical-align: top;\n",
              "    }\n",
              "\n",
              "    .dataframe thead th {\n",
              "        text-align: right;\n",
              "    }\n",
              "</style>\n",
              "<table border=\"1\" class=\"dataframe\">\n",
              "  <thead>\n",
              "    <tr style=\"text-align: right;\">\n",
              "      <th></th>\n",
              "      <th>features</th>\n",
              "      <th>weights</th>\n",
              "    </tr>\n",
              "  </thead>\n",
              "  <tbody>\n",
              "    <tr>\n",
              "      <th>0</th>\n",
              "      <td>AGE</td>\n",
              "      <td>-0.058573</td>\n",
              "    </tr>\n",
              "    <tr>\n",
              "      <th>7</th>\n",
              "      <td>LOAN_NUM_TOTAL</td>\n",
              "      <td>-0.001617</td>\n",
              "    </tr>\n",
              "    <tr>\n",
              "      <th>8</th>\n",
              "      <td>LOAN_NUM_CLOSED</td>\n",
              "      <td>-0.001617</td>\n",
              "    </tr>\n",
              "    <tr>\n",
              "      <th>4</th>\n",
              "      <td>CHILD_TOTAL</td>\n",
              "      <td>-0.001424</td>\n",
              "    </tr>\n",
              "    <tr>\n",
              "      <th>3</th>\n",
              "      <td>GENDER</td>\n",
              "      <td>-0.001053</td>\n",
              "    </tr>\n",
              "    <tr>\n",
              "      <th>1</th>\n",
              "      <td>SOCSTATUS_WORK_FL</td>\n",
              "      <td>-0.000886</td>\n",
              "    </tr>\n",
              "    <tr>\n",
              "      <th>5</th>\n",
              "      <td>DEPENDANTS</td>\n",
              "      <td>-0.000536</td>\n",
              "    </tr>\n",
              "    <tr>\n",
              "      <th>2</th>\n",
              "      <td>SOCSTATUS_PENS_FL</td>\n",
              "      <td>-0.000417</td>\n",
              "    </tr>\n",
              "    <tr>\n",
              "      <th>6</th>\n",
              "      <td>PERSONAL_INCOME</td>\n",
              "      <td>0.000018</td>\n",
              "    </tr>\n",
              "  </tbody>\n",
              "</table>\n",
              "</div>\n",
              "    <div class=\"colab-df-buttons\">\n",
              "\n",
              "  <div class=\"colab-df-container\">\n",
              "    <button class=\"colab-df-convert\" onclick=\"convertToInteractive('df-cd9337d8-281a-46da-bdeb-a1ea7e40a235')\"\n",
              "            title=\"Convert this dataframe to an interactive table.\"\n",
              "            style=\"display:none;\">\n",
              "\n",
              "  <svg xmlns=\"http://www.w3.org/2000/svg\" height=\"24px\" viewBox=\"0 -960 960 960\">\n",
              "    <path d=\"M120-120v-720h720v720H120Zm60-500h600v-160H180v160Zm220 220h160v-160H400v160Zm0 220h160v-160H400v160ZM180-400h160v-160H180v160Zm440 0h160v-160H620v160ZM180-180h160v-160H180v160Zm440 0h160v-160H620v160Z\"/>\n",
              "  </svg>\n",
              "    </button>\n",
              "\n",
              "  <style>\n",
              "    .colab-df-container {\n",
              "      display:flex;\n",
              "      gap: 12px;\n",
              "    }\n",
              "\n",
              "    .colab-df-convert {\n",
              "      background-color: #E8F0FE;\n",
              "      border: none;\n",
              "      border-radius: 50%;\n",
              "      cursor: pointer;\n",
              "      display: none;\n",
              "      fill: #1967D2;\n",
              "      height: 32px;\n",
              "      padding: 0 0 0 0;\n",
              "      width: 32px;\n",
              "    }\n",
              "\n",
              "    .colab-df-convert:hover {\n",
              "      background-color: #E2EBFA;\n",
              "      box-shadow: 0px 1px 2px rgba(60, 64, 67, 0.3), 0px 1px 3px 1px rgba(60, 64, 67, 0.15);\n",
              "      fill: #174EA6;\n",
              "    }\n",
              "\n",
              "    .colab-df-buttons div {\n",
              "      margin-bottom: 4px;\n",
              "    }\n",
              "\n",
              "    [theme=dark] .colab-df-convert {\n",
              "      background-color: #3B4455;\n",
              "      fill: #D2E3FC;\n",
              "    }\n",
              "\n",
              "    [theme=dark] .colab-df-convert:hover {\n",
              "      background-color: #434B5C;\n",
              "      box-shadow: 0px 1px 3px 1px rgba(0, 0, 0, 0.15);\n",
              "      filter: drop-shadow(0px 1px 2px rgba(0, 0, 0, 0.3));\n",
              "      fill: #FFFFFF;\n",
              "    }\n",
              "  </style>\n",
              "\n",
              "    <script>\n",
              "      const buttonEl =\n",
              "        document.querySelector('#df-cd9337d8-281a-46da-bdeb-a1ea7e40a235 button.colab-df-convert');\n",
              "      buttonEl.style.display =\n",
              "        google.colab.kernel.accessAllowed ? 'block' : 'none';\n",
              "\n",
              "      async function convertToInteractive(key) {\n",
              "        const element = document.querySelector('#df-cd9337d8-281a-46da-bdeb-a1ea7e40a235');\n",
              "        const dataTable =\n",
              "          await google.colab.kernel.invokeFunction('convertToInteractive',\n",
              "                                                    [key], {});\n",
              "        if (!dataTable) return;\n",
              "\n",
              "        const docLinkHtml = 'Like what you see? Visit the ' +\n",
              "          '<a target=\"_blank\" href=https://colab.research.google.com/notebooks/data_table.ipynb>data table notebook</a>'\n",
              "          + ' to learn more about interactive tables.';\n",
              "        element.innerHTML = '';\n",
              "        dataTable['output_type'] = 'display_data';\n",
              "        await google.colab.output.renderOutput(dataTable, element);\n",
              "        const docLink = document.createElement('div');\n",
              "        docLink.innerHTML = docLinkHtml;\n",
              "        element.appendChild(docLink);\n",
              "      }\n",
              "    </script>\n",
              "  </div>\n",
              "\n",
              "\n",
              "<div id=\"df-48a50a06-8439-4572-bc08-ee53ab1ffb6f\">\n",
              "  <button class=\"colab-df-quickchart\" onclick=\"quickchart('df-48a50a06-8439-4572-bc08-ee53ab1ffb6f')\"\n",
              "            title=\"Suggest charts\"\n",
              "            style=\"display:none;\">\n",
              "\n",
              "<svg xmlns=\"http://www.w3.org/2000/svg\" height=\"24px\"viewBox=\"0 0 24 24\"\n",
              "     width=\"24px\">\n",
              "    <g>\n",
              "        <path d=\"M19 3H5c-1.1 0-2 .9-2 2v14c0 1.1.9 2 2 2h14c1.1 0 2-.9 2-2V5c0-1.1-.9-2-2-2zM9 17H7v-7h2v7zm4 0h-2V7h2v10zm4 0h-2v-4h2v4z\"/>\n",
              "    </g>\n",
              "</svg>\n",
              "  </button>\n",
              "\n",
              "<style>\n",
              "  .colab-df-quickchart {\n",
              "      --bg-color: #E8F0FE;\n",
              "      --fill-color: #1967D2;\n",
              "      --hover-bg-color: #E2EBFA;\n",
              "      --hover-fill-color: #174EA6;\n",
              "      --disabled-fill-color: #AAA;\n",
              "      --disabled-bg-color: #DDD;\n",
              "  }\n",
              "\n",
              "  [theme=dark] .colab-df-quickchart {\n",
              "      --bg-color: #3B4455;\n",
              "      --fill-color: #D2E3FC;\n",
              "      --hover-bg-color: #434B5C;\n",
              "      --hover-fill-color: #FFFFFF;\n",
              "      --disabled-bg-color: #3B4455;\n",
              "      --disabled-fill-color: #666;\n",
              "  }\n",
              "\n",
              "  .colab-df-quickchart {\n",
              "    background-color: var(--bg-color);\n",
              "    border: none;\n",
              "    border-radius: 50%;\n",
              "    cursor: pointer;\n",
              "    display: none;\n",
              "    fill: var(--fill-color);\n",
              "    height: 32px;\n",
              "    padding: 0;\n",
              "    width: 32px;\n",
              "  }\n",
              "\n",
              "  .colab-df-quickchart:hover {\n",
              "    background-color: var(--hover-bg-color);\n",
              "    box-shadow: 0 1px 2px rgba(60, 64, 67, 0.3), 0 1px 3px 1px rgba(60, 64, 67, 0.15);\n",
              "    fill: var(--button-hover-fill-color);\n",
              "  }\n",
              "\n",
              "  .colab-df-quickchart-complete:disabled,\n",
              "  .colab-df-quickchart-complete:disabled:hover {\n",
              "    background-color: var(--disabled-bg-color);\n",
              "    fill: var(--disabled-fill-color);\n",
              "    box-shadow: none;\n",
              "  }\n",
              "\n",
              "  .colab-df-spinner {\n",
              "    border: 2px solid var(--fill-color);\n",
              "    border-color: transparent;\n",
              "    border-bottom-color: var(--fill-color);\n",
              "    animation:\n",
              "      spin 1s steps(1) infinite;\n",
              "  }\n",
              "\n",
              "  @keyframes spin {\n",
              "    0% {\n",
              "      border-color: transparent;\n",
              "      border-bottom-color: var(--fill-color);\n",
              "      border-left-color: var(--fill-color);\n",
              "    }\n",
              "    20% {\n",
              "      border-color: transparent;\n",
              "      border-left-color: var(--fill-color);\n",
              "      border-top-color: var(--fill-color);\n",
              "    }\n",
              "    30% {\n",
              "      border-color: transparent;\n",
              "      border-left-color: var(--fill-color);\n",
              "      border-top-color: var(--fill-color);\n",
              "      border-right-color: var(--fill-color);\n",
              "    }\n",
              "    40% {\n",
              "      border-color: transparent;\n",
              "      border-right-color: var(--fill-color);\n",
              "      border-top-color: var(--fill-color);\n",
              "    }\n",
              "    60% {\n",
              "      border-color: transparent;\n",
              "      border-right-color: var(--fill-color);\n",
              "    }\n",
              "    80% {\n",
              "      border-color: transparent;\n",
              "      border-right-color: var(--fill-color);\n",
              "      border-bottom-color: var(--fill-color);\n",
              "    }\n",
              "    90% {\n",
              "      border-color: transparent;\n",
              "      border-bottom-color: var(--fill-color);\n",
              "    }\n",
              "  }\n",
              "</style>\n",
              "\n",
              "  <script>\n",
              "    async function quickchart(key) {\n",
              "      const quickchartButtonEl =\n",
              "        document.querySelector('#' + key + ' button');\n",
              "      quickchartButtonEl.disabled = true;  // To prevent multiple clicks.\n",
              "      quickchartButtonEl.classList.add('colab-df-spinner');\n",
              "      try {\n",
              "        const charts = await google.colab.kernel.invokeFunction(\n",
              "            'suggestCharts', [key], {});\n",
              "      } catch (error) {\n",
              "        console.error('Error during call to suggestCharts:', error);\n",
              "      }\n",
              "      quickchartButtonEl.classList.remove('colab-df-spinner');\n",
              "      quickchartButtonEl.classList.add('colab-df-quickchart-complete');\n",
              "    }\n",
              "    (() => {\n",
              "      let quickchartButtonEl =\n",
              "        document.querySelector('#df-48a50a06-8439-4572-bc08-ee53ab1ffb6f button');\n",
              "      quickchartButtonEl.style.display =\n",
              "        google.colab.kernel.accessAllowed ? 'block' : 'none';\n",
              "    })();\n",
              "  </script>\n",
              "</div>\n",
              "    </div>\n",
              "  </div>\n"
            ],
            "application/vnd.google.colaboratory.intrinsic+json": {
              "type": "dataframe",
              "summary": "{\n  \"name\": \"coef_table\",\n  \"rows\": 9,\n  \"fields\": [\n    {\n      \"column\": \"features\",\n      \"properties\": {\n        \"dtype\": \"string\",\n        \"num_unique_values\": 9,\n        \"samples\": [\n          \"SOCSTATUS_PENS_FL\",\n          \"LOAN_NUM_TOTAL\",\n          \"SOCSTATUS_WORK_FL\"\n        ],\n        \"semantic_type\": \"\",\n        \"description\": \"\"\n      }\n    },\n    {\n      \"column\": \"weights\",\n      \"properties\": {\n        \"dtype\": \"number\",\n        \"std\": 0.019218772346466698,\n        \"min\": -0.05857324262600664,\n        \"max\": 1.8472761270024644e-05,\n        \"num_unique_values\": 8,\n        \"samples\": [\n          -0.0016170588322582896,\n          -0.0005364104020399067,\n          -0.05857324262600664\n        ],\n        \"semantic_type\": \"\",\n        \"description\": \"\"\n      }\n    }\n  ]\n}"
            }
          },
          "metadata": {},
          "execution_count": 26
        }
      ]
    },
    {
      "cell_type": "markdown",
      "source": [
        "## Задание 2\n",
        "\n",
        "Добавьте в Streamlit-приложение визуализацию результатов модели:\n",
        "\n",
        "* опцию выбора порога и вывод метрик качества в зависимости от выбранного порога\n",
        "\n",
        "* вывод прогноза модели на выбранном объекте (клиенте) - вероятность отклика на рекламу."
      ],
      "metadata": {
        "id": "E6zYvAVE1Qfd"
      }
    },
    {
      "cell_type": "code",
      "source": [
        "import pickle"
      ],
      "metadata": {
        "id": "x_PQ60Uk-smD"
      },
      "execution_count": 27,
      "outputs": []
    },
    {
      "cell_type": "code",
      "source": [
        "with open('model.pickle', 'wb') as f:\n",
        "  pickle.dump(model, f)"
      ],
      "metadata": {
        "id": "OllCEqvg-xyS"
      },
      "execution_count": 28,
      "outputs": []
    },
    {
      "cell_type": "markdown",
      "source": [
        "## Бонус\n",
        "\n",
        "Попробуйте применить другие модели классификации для решения этой задачи (любые какие знаете).\n",
        "\n",
        "Удалось ли добиться улучшения качества модели?"
      ],
      "metadata": {
        "id": "XSXZmkTCy4IX"
      }
    },
    {
      "cell_type": "code",
      "source": [
        "# your code here"
      ],
      "metadata": {
        "id": "nuYrKTE9zDlZ"
      },
      "execution_count": null,
      "outputs": []
    }
  ]
}