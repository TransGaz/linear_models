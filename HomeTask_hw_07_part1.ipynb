{
 "cells": [
  {
   "cell_type": "markdown",
   "metadata": {
    "id": "m9QWlN-lq0qw"
   },
   "source": [
    "# Практическая работа"
   ]
  },
  {
   "cell_type": "markdown",
   "metadata": {
    "id": "4Nb7eTxYWWUe"
   },
   "source": [
    "# Задача"
   ]
  },
  {
   "cell_type": "markdown",
   "metadata": {
    "id": "ug5TQChn6KiJ"
   },
   "source": [
    "Один из способов повысить эффективность взаимодействия банка с клиентами — отправлять предложение о новой услуге не всем клиентам, а только некоторым, которые выбираются по принципу наибольшей склонности к отклику на это предложение.\n",
    "\n",
    "Задача заключается в том, чтобы предложить алгоритм, который будет выдавать склонность клиента к положительному или отрицательному отклику на предложение банка. Предполагается, что, получив такие оценки для некоторого множества клиентов, банк обратится с предложением только к тем, от кого ожидается положительный отклик.\n"
   ]
  },
  {
   "cell_type": "markdown",
   "metadata": {
    "id": "5k52FwP156I6"
   },
   "source": [
    "Для решения этой задачи загрузите файлы из базы в Postgres.\n",
    "Эта БД хранит информацию о клиентах банка и их персональные данные, такие как пол, количество детей и другие.\n",
    "\n",
    "Описание таблиц с данными представлено ниже.\n"
   ]
  },
  {
   "cell_type": "markdown",
   "metadata": {
    "id": "3HYLpuwA6dAw"
   },
   "source": [
    "**D_work**\n",
    "\n",
    "Описание статусов относительно работы:\n",
    "- ID — идентификатор социального статуса клиента относительно работы;\n",
    "- COMMENT — расшифровка статуса.\n",
    "\n",
    "\n",
    "**D_pens**\n",
    "\n",
    "Описание статусов относительно пенсии:\n",
    "- ID — идентификатор социального статуса;\n",
    "- COMMENT — расшифровка статуса.\n",
    "\n",
    "\n",
    "**D_clients**\n",
    "\n",
    "Описание данных клиентов:\n",
    "- ID — идентификатор записи;\n",
    "- AGE\t— возраст клиента;\n",
    "- GENDER — пол клиента (1 — мужчина, 0 — женщина);\n",
    "- EDUCATION — образование;\n",
    "- MARITAL_STATUS — семейное положение;\n",
    "- CHILD_TOTAL\t— количество детей клиента;\n",
    "- DEPENDANTS — количество иждивенцев клиента;\n",
    "- SOCSTATUS_WORK_FL\t— социальный статус клиента относительно работы (1 — работает, 0 — не работает);\n",
    "- SOCSTATUS_PENS_FL\t— социальный статус клиента относительно пенсии (1 — пенсионер, 0 — не пенсионер);\n",
    "- REG_ADDRESS_PROVINCE — область регистрации клиента;\n",
    "- FACT_ADDRESS_PROVINCE — область фактического пребывания клиента;\n",
    "- POSTAL_ADDRESS_PROVINCE — почтовый адрес области;\n",
    "- FL_PRESENCE_FL — наличие в собственности квартиры (1 — есть, 0 — нет);\n",
    "- OWN_AUTO — количество автомобилей в собственности.\n",
    "\n",
    "\n",
    "**D_agreement**\n",
    "\n",
    "Таблица с зафиксированными откликами клиентов на предложения банка:\n",
    "- AGREEMENT_RK — уникальный идентификатор объекта в выборке;\n",
    "- ID_CLIENT — идентификатор клиента;\n",
    "- TARGET — целевая переменная: отклик на маркетинговую кампанию (1 — отклик был зарегистрирован, 0 — отклика не было).\n",
    "    \n",
    "    \n",
    "**D_job**\n",
    "\n",
    "Описание информации о работе клиентов:\n",
    "- GEN_INDUSTRY — отрасль работы клиента;\n",
    "- GEN_TITLE — должность;\n",
    "- JOB_DIR — направление деятельности внутри компании;\n",
    "- WORK_TIME — время работы на текущем месте (в месяцах);\n",
    "- ID_CLIENT — идентификатор клиента.\n",
    "\n",
    "\n",
    "**D_salary**\n",
    "\n",
    "Описание информации о заработной плате клиентов:\n",
    "- ID_CLIENT — идентификатор клиента;\n",
    "- FAMILY_INCOME — семейный доход (несколько категорий);\n",
    "- PERSONAL_INCOME — личный доход клиента (в рублях).\n",
    "\n",
    "\n",
    "**D_last_credit**\n",
    "\n",
    "Информация о последнем займе клиента:\n",
    "- ID_CLIENT — идентификатор клиента;\n",
    "- CREDIT — сумма последнего кредита клиента (в рублях);\n",
    "- TERM — срок кредита;\n",
    "- FST_PAYMENT — первоначальный взнос (в рублях).\n",
    "\n",
    "\n",
    "**D_loan**\n",
    "\n",
    "Информация о кредитной истории клиента:\n",
    "- ID_CLIENT — идентификатор клиента;\n",
    "- ID_LOAN — идентификатор кредита.\n",
    "\n",
    "**D_close_loan**\n",
    "\n",
    "Информация о статусах кредита (ссуд):\n",
    "- ID_LOAN — идентификатор кредита;\n",
    "- CLOSED_FL — текущий статус кредита (1 — закрыт, 0 — не закрыт)."
   ]
  },
  {
   "cell_type": "markdown",
   "metadata": {
    "id": "aSCbvJeMKegU"
   },
   "source": [
    "Ниже представлен минимальный список колонок, которые должны находиться в итоговом датасете после склейки и агрегации данных. По своему усмотрению вы можете добавить дополнительные к этим колонки."
   ]
  },
  {
   "cell_type": "markdown",
   "metadata": {
    "id": "xDZKZYCtmbwi"
   },
   "source": [
    "    - AGREEMENT_RK — уникальный идентификатор объекта в выборке;\n",
    "    - TARGET — целевая переменная: отклик на маркетинговую кампанию (1 — отклик был зарегистрирован, 0 — отклика не было);\n",
    "    - AGE — возраст клиента;\n",
    "    - SOCSTATUS_WORK_FL — социальный статус клиента относительно работы (1 — работает, 0 — не работает);\n",
    "    - SOCSTATUS_PENS_FL — социальный статус клиента относительно пенсии (1 — пенсионер, 0 — не пенсионер);\n",
    "    - GENDER — пол клиента (1 — мужчина, 0 — женщина);\n",
    "    - CHILD_TOTAL — количество детей клиента;\n",
    "    - DEPENDANTS — количество иждивенцев клиента;\n",
    "    - PERSONAL_INCOME — личный доход клиента (в рублях);\n",
    "    - LOAN_NUM_TOTAL — количество ссуд клиента;\n",
    "    - LOAN_NUM_CLOSED — количество погашенных ссуд клиента.\n"
   ]
  },
  {
   "cell_type": "markdown",
   "metadata": {
    "id": "EDpojLFeAw2Y"
   },
   "source": [
    "Будьте внимательны при сборке датасета: это реальные банковские данные, в которых могут наблюдаться дубли, некорректно заполненные значения или значения, противоречащие друг другу. Для получения качественной модели необходимо предварительно очистить датасет от такой информации."
   ]
  },
  {
   "cell_type": "markdown",
   "metadata": {
    "id": "GERgJvyYmQEZ"
   },
   "source": [
    "## Задание 1\n",
    "\n",
    "В предыдущем задании вы собрали всю информацию о клиентах в одну таблицу, где одна строчка соответствует полной информации об одном клиенте.\n",
    "\n",
    "Загрузите эту таблицу."
   ]
  },
  {
   "cell_type": "code",
   "execution_count": 1,
   "metadata": {
    "id": "AnHaqRF4uzxP"
   },
   "outputs": [],
   "source": [
    "# your code here\n",
    "import pandas as pd"
   ]
  },
  {
   "cell_type": "code",
   "execution_count": 2,
   "metadata": {
    "colab": {
     "base_uri": "https://localhost:8080/"
    },
    "id": "MJphjH77vBbG",
    "outputId": "0850e3a2-a340-436f-879f-79471080e833"
   },
   "outputs": [
    {
     "name": "stdout",
     "output_type": "stream",
     "text": [
      "<class 'pandas.core.frame.DataFrame'>\n",
      "RangeIndex: 15594 entries, 0 to 15593\n",
      "Data columns (total 11 columns):\n",
      " #   Column             Non-Null Count  Dtype  \n",
      "---  ------             --------------  -----  \n",
      " 0   AGREEMENT_RK       15594 non-null  int64  \n",
      " 1   AGE                15594 non-null  int64  \n",
      " 2   SOCSTATUS_WORK_FL  15594 non-null  int64  \n",
      " 3   SOCSTATUS_PENS_FL  15594 non-null  int64  \n",
      " 4   GENDER             15594 non-null  int64  \n",
      " 5   CHILD_TOTAL        15594 non-null  int64  \n",
      " 6   DEPENDANTS         15594 non-null  int64  \n",
      " 7   PERSONAL_INCOME    15594 non-null  float64\n",
      " 8   LOAN_NUM_TOTAL     15594 non-null  int64  \n",
      " 9   LOAN_NUM_CLOSED    15594 non-null  int64  \n",
      " 10  TARGET             15594 non-null  int64  \n",
      "dtypes: float64(1), int64(10)\n",
      "memory usage: 1.3 MB\n"
     ]
    }
   ],
   "source": [
    "df = pd.read_csv('datasets/bank_clients.csv')\n",
    "df.info()"
   ]
  },
  {
   "cell_type": "code",
   "execution_count": 3,
   "metadata": {
    "colab": {
     "base_uri": "https://localhost:8080/",
     "height": 226
    },
    "id": "9ZszVqnHvPFX",
    "outputId": "c01113b1-f5b6-480f-f0f0-afea7e8b3970"
   },
   "outputs": [
    {
     "data": {
      "text/html": [
       "<div>\n",
       "<style scoped>\n",
       "    .dataframe tbody tr th:only-of-type {\n",
       "        vertical-align: middle;\n",
       "    }\n",
       "\n",
       "    .dataframe tbody tr th {\n",
       "        vertical-align: top;\n",
       "    }\n",
       "\n",
       "    .dataframe thead th {\n",
       "        text-align: right;\n",
       "    }\n",
       "</style>\n",
       "<table border=\"1\" class=\"dataframe\">\n",
       "  <thead>\n",
       "    <tr style=\"text-align: right;\">\n",
       "      <th></th>\n",
       "      <th>AGREEMENT_RK</th>\n",
       "      <th>AGE</th>\n",
       "      <th>SOCSTATUS_WORK_FL</th>\n",
       "      <th>SOCSTATUS_PENS_FL</th>\n",
       "      <th>GENDER</th>\n",
       "      <th>CHILD_TOTAL</th>\n",
       "      <th>DEPENDANTS</th>\n",
       "      <th>PERSONAL_INCOME</th>\n",
       "      <th>LOAN_NUM_TOTAL</th>\n",
       "      <th>LOAN_NUM_CLOSED</th>\n",
       "      <th>TARGET</th>\n",
       "    </tr>\n",
       "  </thead>\n",
       "  <tbody>\n",
       "    <tr>\n",
       "      <th>0</th>\n",
       "      <td>60099204</td>\n",
       "      <td>42</td>\n",
       "      <td>1</td>\n",
       "      <td>0</td>\n",
       "      <td>1</td>\n",
       "      <td>1</td>\n",
       "      <td>0</td>\n",
       "      <td>25000.0</td>\n",
       "      <td>1</td>\n",
       "      <td>1</td>\n",
       "      <td>1</td>\n",
       "    </tr>\n",
       "    <tr>\n",
       "      <th>1</th>\n",
       "      <td>62244665</td>\n",
       "      <td>28</td>\n",
       "      <td>1</td>\n",
       "      <td>0</td>\n",
       "      <td>1</td>\n",
       "      <td>1</td>\n",
       "      <td>1</td>\n",
       "      <td>10000.0</td>\n",
       "      <td>1</td>\n",
       "      <td>1</td>\n",
       "      <td>0</td>\n",
       "    </tr>\n",
       "    <tr>\n",
       "      <th>2</th>\n",
       "      <td>61050759</td>\n",
       "      <td>64</td>\n",
       "      <td>1</td>\n",
       "      <td>1</td>\n",
       "      <td>0</td>\n",
       "      <td>2</td>\n",
       "      <td>0</td>\n",
       "      <td>30000.0</td>\n",
       "      <td>1</td>\n",
       "      <td>1</td>\n",
       "      <td>0</td>\n",
       "    </tr>\n",
       "    <tr>\n",
       "      <th>3</th>\n",
       "      <td>62079659</td>\n",
       "      <td>54</td>\n",
       "      <td>1</td>\n",
       "      <td>0</td>\n",
       "      <td>1</td>\n",
       "      <td>0</td>\n",
       "      <td>0</td>\n",
       "      <td>25000.0</td>\n",
       "      <td>1</td>\n",
       "      <td>1</td>\n",
       "      <td>0</td>\n",
       "    </tr>\n",
       "    <tr>\n",
       "      <th>4</th>\n",
       "      <td>66583553</td>\n",
       "      <td>26</td>\n",
       "      <td>1</td>\n",
       "      <td>0</td>\n",
       "      <td>0</td>\n",
       "      <td>1</td>\n",
       "      <td>1</td>\n",
       "      <td>15000.0</td>\n",
       "      <td>2</td>\n",
       "      <td>2</td>\n",
       "      <td>0</td>\n",
       "    </tr>\n",
       "  </tbody>\n",
       "</table>\n",
       "</div>"
      ],
      "text/plain": [
       "   AGREEMENT_RK  AGE  SOCSTATUS_WORK_FL  SOCSTATUS_PENS_FL  GENDER  \\\n",
       "0      60099204   42                  1                  0       1   \n",
       "1      62244665   28                  1                  0       1   \n",
       "2      61050759   64                  1                  1       0   \n",
       "3      62079659   54                  1                  0       1   \n",
       "4      66583553   26                  1                  0       0   \n",
       "\n",
       "   CHILD_TOTAL  DEPENDANTS  PERSONAL_INCOME  LOAN_NUM_TOTAL  LOAN_NUM_CLOSED  \\\n",
       "0            1           0          25000.0               1                1   \n",
       "1            1           1          10000.0               1                1   \n",
       "2            2           0          30000.0               1                1   \n",
       "3            0           0          25000.0               1                1   \n",
       "4            1           1          15000.0               2                2   \n",
       "\n",
       "   TARGET  \n",
       "0       1  \n",
       "1       0  \n",
       "2       0  \n",
       "3       0  \n",
       "4       0  "
      ]
     },
     "execution_count": 3,
     "metadata": {},
     "output_type": "execute_result"
    }
   ],
   "source": [
    "df.head()"
   ]
  },
  {
   "cell_type": "markdown",
   "metadata": {
    "id": "qrbnMjIHu1hq"
   },
   "source": [
    "Разбейте данные на тренировочную и тестовую часть в пропорции 80% к 20%, зафиксируйте `random_state = 42`."
   ]
  },
  {
   "cell_type": "code",
   "execution_count": 4,
   "metadata": {
    "id": "W__PbhFeu1qC"
   },
   "outputs": [],
   "source": [
    "# your code here\n",
    "X = df.drop(['TARGET', 'AGREEMENT_RK'], axis=1)\n",
    "y = df['TARGET']"
   ]
  },
  {
   "cell_type": "code",
   "execution_count": 5,
   "metadata": {
    "id": "HK2w_ZQMvd8d"
   },
   "outputs": [],
   "source": [
    "from sklearn.model_selection import train_test_split\n",
    "\n",
    "X_train, X_test, y_train, y_test = train_test_split(X , y, test_size=0.2, random_state=42)"
   ]
  },
  {
   "cell_type": "code",
   "execution_count": 6,
   "metadata": {
    "id": "FNeKB-4xvlJV"
   },
   "outputs": [
    {
     "name": "stdout",
     "output_type": "stream",
     "text": [
      "Defaulting to user installation because normal site-packages is not writeable\n",
      "Collecting numpy<1.25.0,>=1.16.5\n",
      "  Downloading numpy-1.24.4-cp310-cp310-manylinux_2_17_x86_64.manylinux2014_x86_64.whl (17.3 MB)\n",
      "\u001b[2K     \u001b[38;2;114;156;31m━━━━━━━━━━━━━━━━━━━━━━━━━━━━━━━━━━━━━━━━\u001b[0m \u001b[32m17.3/17.3 MB\u001b[0m \u001b[31m10.6 MB/s\u001b[0m eta \u001b[36m0:00:00\u001b[0mm eta \u001b[36m0:00:01\u001b[0m0:01\u001b[0m:01\u001b[0m\n",
      "\u001b[?25hInstalling collected packages: numpy\n",
      "  Attempting uninstall: numpy\n",
      "    Found existing installation: numpy 1.26.4\n",
      "    Uninstalling numpy-1.26.4:\n",
      "      Successfully uninstalled numpy-1.26.4\n",
      "Successfully installed numpy-1.24.4\n",
      "Note: you may need to restart the kernel to use updated packages.\n"
     ]
    }
   ],
   "source": [
    "#pip install \"numpy>=1.16.5,<1.25.0\""
   ]
  },
  {
   "cell_type": "markdown",
   "metadata": {
    "id": "KlT4qPSAu-iJ"
   },
   "source": [
    "На тренировочных данных обучите линейную модель классификации для предсказания целевой переменной (столбец `TARGET`).\n",
    "\n",
    "Сделайте прогноз вероятности отклика на рекламную кампанию для тестовых данных."
   ]
  },
  {
   "cell_type": "code",
   "execution_count": 6,
   "metadata": {
    "id": "eblrenlau-qw"
   },
   "outputs": [
    {
     "name": "stderr",
     "output_type": "stream",
     "text": [
      "/home/olegerius/.local/lib/python3.10/site-packages/sklearn/linear_model/_logistic.py:469: ConvergenceWarning: lbfgs failed to converge (status=1):\n",
      "STOP: TOTAL NO. of ITERATIONS REACHED LIMIT.\n",
      "\n",
      "Increase the number of iterations (max_iter) or scale the data as shown in:\n",
      "    https://scikit-learn.org/stable/modules/preprocessing.html\n",
      "Please also refer to the documentation for alternative solver options:\n",
      "    https://scikit-learn.org/stable/modules/linear_model.html#logistic-regression\n",
      "  n_iter_i = _check_optimize_result(\n"
     ]
    }
   ],
   "source": [
    "# your code here\n",
    "from sklearn.linear_model import LogisticRegression\n",
    "\n",
    "model =LogisticRegression()\n",
    "model.fit(X_train, y_train)\n",
    "pred_test = model.predict(X_test) # предсказание класса"
   ]
  },
  {
   "cell_type": "markdown",
   "metadata": {
    "id": "DU2v7ELEvgGF"
   },
   "source": [
    "Переведите вероятности в классы по стандартному порогу (0.5) и на тестовом наборе данных вычислите метрики:\n",
    "\n",
    "* accuracy\n",
    "* precision\n",
    "* recall\n",
    "* f1-score"
   ]
  },
  {
   "cell_type": "code",
   "execution_count": 7,
   "metadata": {
    "colab": {
     "base_uri": "https://localhost:8080/"
    },
    "id": "9Uc5AmYXvgOb",
    "outputId": "f68da009-12fc-4f30-f224-56e6d7f82cee"
   },
   "outputs": [
    {
     "data": {
      "text/plain": [
       "array([0, 0, 0, 0, 0, 0, 0, 0, 0, 0, 0, 0, 0, 0, 0, 0, 0, 0, 0, 0, 0, 0,\n",
       "       0, 0, 0])"
      ]
     },
     "execution_count": 7,
     "metadata": {},
     "output_type": "execute_result"
    }
   ],
   "source": [
    "# your code here\n",
    "pred_test[:25]"
   ]
  },
  {
   "cell_type": "code",
   "execution_count": 8,
   "metadata": {
    "colab": {
     "base_uri": "https://localhost:8080/"
    },
    "id": "62UPDGKayfPH",
    "outputId": "3f9c0801-b5f7-4faf-a7d3-5ac94e4f1d07"
   },
   "outputs": [
    {
     "data": {
      "text/plain": [
       "0.8781660788714332"
      ]
     },
     "execution_count": 8,
     "metadata": {},
     "output_type": "execute_result"
    }
   ],
   "source": [
    "from sklearn.metrics import accuracy_score, precision_score, recall_score, f1_score, confusion_matrix\n",
    "\n",
    "accuracy_score(y_test, pred_test)"
   ]
  },
  {
   "cell_type": "code",
   "execution_count": 9,
   "metadata": {
    "colab": {
     "base_uri": "https://localhost:8080/",
     "height": 178
    },
    "id": "zUfNWyYDzPfn",
    "outputId": "ee950c83-db76-429b-b074-b32b6cccb416"
   },
   "outputs": [
    {
     "data": {
      "text/plain": [
       "TARGET\n",
       "0    0.883801\n",
       "1    0.116199\n",
       "Name: proportion, dtype: float64"
      ]
     },
     "execution_count": 9,
     "metadata": {},
     "output_type": "execute_result"
    }
   ],
   "source": [
    "y.value_counts(normalize=True)"
   ]
  },
  {
   "cell_type": "markdown",
   "metadata": {
    "id": "_GMFrg6azkce"
   },
   "source": [
    "имеется дисбаланс классов"
   ]
  },
  {
   "cell_type": "code",
   "execution_count": 10,
   "metadata": {
    "colab": {
     "base_uri": "https://localhost:8080/"
    },
    "id": "FyIx9dbQzuS3",
    "outputId": "1afadb7b-dddb-4bb2-b7bb-fb8f39fea1f5"
   },
   "outputs": [
    {
     "data": {
      "text/plain": [
       "array([[2739,    4],\n",
       "       [ 376,    0]])"
      ]
     },
     "execution_count": 10,
     "metadata": {},
     "output_type": "execute_result"
    }
   ],
   "source": [
    "confusion_matrix(y_test, pred_test)"
   ]
  },
  {
   "cell_type": "markdown",
   "metadata": {
    "id": "4fDHlmmjz9dR"
   },
   "source": [
    "### *Для 2741 клиентов, которые не откликнулись модель ошибочно предсказала двоих. 376 клиентов которые сотрудничали и откликнулись, модель записала в неоткликнувшиеся*"
   ]
  },
  {
   "cell_type": "code",
   "execution_count": 11,
   "metadata": {
    "colab": {
     "base_uri": "https://localhost:8080/"
    },
    "id": "Qqny0Y561Yiz",
    "outputId": "b0841110-51fe-4789-df80-a32d259a2248"
   },
   "outputs": [
    {
     "data": {
      "text/plain": [
       "array([[0.88002147, 0.11997853],\n",
       "       [0.92029709, 0.07970291],\n",
       "       [0.9255957 , 0.0744043 ],\n",
       "       [0.88182655, 0.11817345],\n",
       "       [0.84472668, 0.15527332],\n",
       "       [0.81028543, 0.18971457],\n",
       "       [0.894186  , 0.105814  ]])"
      ]
     },
     "execution_count": 11,
     "metadata": {},
     "output_type": "execute_result"
    }
   ],
   "source": [
    "prob = model.predict_proba(X_test)\n",
    "prob[:7]"
   ]
  },
  {
   "cell_type": "code",
   "execution_count": 12,
   "metadata": {
    "id": "MnArKr7P1yIQ"
   },
   "outputs": [],
   "source": [
    "prob_churn = prob[:,1]\n",
    "classes = prob_churn > 0.5"
   ]
  },
  {
   "cell_type": "code",
   "execution_count": 13,
   "metadata": {
    "colab": {
     "base_uri": "https://localhost:8080/"
    },
    "id": "JtMe9eF82ChP",
    "outputId": "cacc80dc-d4a0-4d74-f2ea-49fc0c604d4e"
   },
   "outputs": [
    {
     "name": "stdout",
     "output_type": "stream",
     "text": [
      "Accuracy: 0.8781660788714332\n",
      "Precision: 0.0\n",
      "Recall: 0.0\n",
      "f1: 0.0\n"
     ]
    }
   ],
   "source": [
    "print(f\"Accuracy: {accuracy_score(y_test, classes)}\")\n",
    "print(f\"Precision: {precision_score(y_test, classes)}\")\n",
    "print(f\"Recall: {recall_score(y_test, classes)}\")\n",
    "print(f\"f1: {f1_score(y_test, classes)}\")"
   ]
  },
  {
   "cell_type": "code",
   "execution_count": 14,
   "metadata": {
    "colab": {
     "base_uri": "https://localhost:8080/"
    },
    "id": "geWOmL7R2qgP",
    "outputId": "bfb8daf3-4f08-4518-d1a0-4725e1cf4285"
   },
   "outputs": [
    {
     "data": {
      "text/plain": [
       "array([[2739,    4],\n",
       "       [ 376,    0]])"
      ]
     },
     "execution_count": 14,
     "metadata": {},
     "output_type": "execute_result"
    }
   ],
   "source": [
    "confusion_matrix(y_test, classes)"
   ]
  },
  {
   "cell_type": "markdown",
   "metadata": {
    "id": "Ft9XQp4Dxs-Z"
   },
   "source": [
    "Целевая метрика для задачи - полнота, так как нам нужно найти максимум клиентов, кто может откликнуться на рекламу.\n",
    "\n",
    "Но при этом точность не должна просесть, поэтому за ней тоже следим."
   ]
  },
  {
   "cell_type": "markdown",
   "metadata": {
    "id": "JFPAsh0-xWak"
   },
   "source": [
    "Разбейте тренировочные данные на `train` и `val` части в пропорции 3 к 1.\n",
    "\n",
    "В цикле:\n",
    "\n",
    "* переберите пороги от 0 до 1 с шагом 0.01\n",
    "* вычислите для каждого порога значение метрик precision и recall\n",
    "* подберите такой порог, при котором recall не меньше 0.66, а точность максимальна."
   ]
  },
  {
   "cell_type": "code",
   "execution_count": 15,
   "metadata": {
    "id": "jTs9xG4AyQ5t"
   },
   "outputs": [],
   "source": [
    "# your code here\n",
    "df = pd.read_csv('datasets/bank_clients.csv')\n",
    "\n",
    "X = df.drop(['TARGET', 'AGREEMENT_RK'], axis=1)\n",
    "y = df['TARGET']\n",
    "\n",
    "X_train, X_val, y_train, y_val = train_test_split(X , y, test_size=0.25, random_state=42)\n",
    "\n",
    "\n",
    "\n"
   ]
  },
  {
   "cell_type": "code",
   "execution_count": 16,
   "metadata": {
    "id": "KNTJwf9g4OQh"
   },
   "outputs": [
    {
     "name": "stderr",
     "output_type": "stream",
     "text": [
      "/home/olegerius/.local/lib/python3.10/site-packages/sklearn/linear_model/_logistic.py:469: ConvergenceWarning: lbfgs failed to converge (status=1):\n",
      "STOP: TOTAL NO. of ITERATIONS REACHED LIMIT.\n",
      "\n",
      "Increase the number of iterations (max_iter) or scale the data as shown in:\n",
      "    https://scikit-learn.org/stable/modules/preprocessing.html\n",
      "Please also refer to the documentation for alternative solver options:\n",
      "    https://scikit-learn.org/stable/modules/linear_model.html#logistic-regression\n",
      "  n_iter_i = _check_optimize_result(\n"
     ]
    }
   ],
   "source": [
    "max_precision = -1\n",
    "border = 0\n",
    "i = 0\n",
    "\n",
    "model =LogisticRegression()\n",
    "model.fit(X_train, y_train)\n",
    "pred_test = model.predict(X_val)\n",
    "\n",
    "prob = model.predict_proba(X_val)\n",
    "prob_churn = prob[:,1]\n",
    "\n",
    "while i <=1:\n",
    "  classes = prob_churn > i\n",
    "  if (recall_score(y_val, classes) >= 0.66) and (precision_score(y_val, classes) > max_precision):\n",
    "    border = i\n",
    "    max_precision = precision_score(y_val, classes)\n",
    "  i += 0.01\n",
    "\n",
    "\n"
   ]
  },
  {
   "cell_type": "code",
   "execution_count": 17,
   "metadata": {
    "colab": {
     "base_uri": "https://localhost:8080/"
    },
    "id": "ukzbiLMr6_Dh",
    "outputId": "2594e6a5-f8d1-40c5-ebc1-1c3784a96670"
   },
   "outputs": [
    {
     "data": {
      "text/plain": [
       "(0.09999999999999999, 0.14450354609929078)"
      ]
     },
     "execution_count": 17,
     "metadata": {},
     "output_type": "execute_result"
    }
   ],
   "source": [
    "border, max_precision"
   ]
  },
  {
   "cell_type": "markdown",
   "metadata": {
    "id": "39s_laFMyQfN"
   },
   "source": [
    "Для выбранного порога посчитайте все метрики на тестовых данных. Сильно ли они отличаются от метрик на валидации?"
   ]
  },
  {
   "cell_type": "code",
   "execution_count": 18,
   "metadata": {
    "colab": {
     "base_uri": "https://localhost:8080/"
    },
    "id": "BxeBB8ruyks8",
    "outputId": "ac772171-79a5-464f-d322-20cc770602a1"
   },
   "outputs": [
    {
     "name": "stdout",
     "output_type": "stream",
     "text": [
      "Accuracy: 0.47063349576814567\n",
      "Precision: 0.14450354609929078\n",
      "Recall: 0.7086956521739131\n",
      "f1: 0.24005891016200295\n"
     ]
    }
   ],
   "source": [
    "# your code here\n",
    "classes = prob_churn > border\n",
    "\n",
    "print(f\"Accuracy: {accuracy_score(y_val, classes)}\")\n",
    "print(f\"Precision: {precision_score(y_val, classes)}\")\n",
    "print(f\"Recall: {recall_score(y_val, classes)}\")\n",
    "print(f\"f1: {f1_score(y_val, classes)}\")\n"
   ]
  },
  {
   "cell_type": "code",
   "execution_count": 19,
   "metadata": {
    "colab": {
     "base_uri": "https://localhost:8080/"
    },
    "id": "V84LVcGW752K",
    "outputId": "4e9cb6a1-6cce-40cb-ba45-0686a41c16de"
   },
   "outputs": [
    {
     "data": {
      "text/plain": [
       "array([[1509, 1930],\n",
       "       [ 134,  326]])"
      ]
     },
     "execution_count": 19,
     "metadata": {},
     "output_type": "execute_result"
    }
   ],
   "source": [
    "confusion_matrix(y_val, classes)"
   ]
  },
  {
   "cell_type": "code",
   "execution_count": null,
   "metadata": {
    "id": "DO_6yIEO8o35"
   },
   "outputs": [],
   "source": []
  },
  {
   "cell_type": "markdown",
   "metadata": {
    "id": "XUlJIdVu8YOR"
   },
   "source": [
    "*Модель выявила 314 клиентов с обратным откликом*"
   ]
  },
  {
   "cell_type": "markdown",
   "metadata": {
    "id": "LH7vX8nqyj5r"
   },
   "source": [
    "Выведите на экран в виде таблицы топ-6 признаков с наибольшими по модулю весами модели."
   ]
  },
  {
   "cell_type": "code",
   "execution_count": 20,
   "metadata": {
    "colab": {
     "base_uri": "https://localhost:8080/"
    },
    "id": "QxZ-IogCyxot",
    "outputId": "cde5b94d-b310-4e2c-bf8f-0051515c4bcf"
   },
   "outputs": [
    {
     "data": {
      "text/plain": [
       "[-0.2714424944474197,\n",
       " 0.23747614833375216,\n",
       " -0.15010911812231525,\n",
       " -0.10328870470337817,\n",
       " -0.06170070569378883,\n",
       " -0.06170070569378883]"
      ]
     },
     "execution_count": 20,
     "metadata": {},
     "output_type": "execute_result"
    }
   ],
   "source": [
    "# your code here\n",
    "\n",
    "weights = sorted(model.coef_[0], key=abs, reverse=True)\n",
    "weights[:6]"
   ]
  },
  {
   "cell_type": "code",
   "execution_count": 21,
   "metadata": {
    "id": "7FPwLDY-9ZKB"
   },
   "outputs": [],
   "source": [
    "weights = weights[:6]"
   ]
  },
  {
   "cell_type": "code",
   "execution_count": 22,
   "metadata": {
    "colab": {
     "base_uri": "https://localhost:8080/",
     "height": 331
    },
    "id": "BFQW6S299h6h",
    "outputId": "7a52c37f-89f2-4c22-e0b5-0ed5423f8e08"
   },
   "outputs": [
    {
     "data": {
      "text/html": [
       "<div>\n",
       "<style scoped>\n",
       "    .dataframe tbody tr th:only-of-type {\n",
       "        vertical-align: middle;\n",
       "    }\n",
       "\n",
       "    .dataframe tbody tr th {\n",
       "        vertical-align: top;\n",
       "    }\n",
       "\n",
       "    .dataframe thead th {\n",
       "        text-align: right;\n",
       "    }\n",
       "</style>\n",
       "<table border=\"1\" class=\"dataframe\">\n",
       "  <thead>\n",
       "    <tr style=\"text-align: right;\">\n",
       "      <th></th>\n",
       "      <th>features</th>\n",
       "      <th>weights</th>\n",
       "    </tr>\n",
       "  </thead>\n",
       "  <tbody>\n",
       "    <tr>\n",
       "      <th>1</th>\n",
       "      <td>SOCSTATUS_WORK_FL</td>\n",
       "      <td>-0.271442</td>\n",
       "    </tr>\n",
       "    <tr>\n",
       "      <th>5</th>\n",
       "      <td>DEPENDANTS</td>\n",
       "      <td>-0.150109</td>\n",
       "    </tr>\n",
       "    <tr>\n",
       "      <th>3</th>\n",
       "      <td>GENDER</td>\n",
       "      <td>-0.103289</td>\n",
       "    </tr>\n",
       "    <tr>\n",
       "      <th>7</th>\n",
       "      <td>LOAN_NUM_TOTAL</td>\n",
       "      <td>-0.061701</td>\n",
       "    </tr>\n",
       "    <tr>\n",
       "      <th>8</th>\n",
       "      <td>LOAN_NUM_CLOSED</td>\n",
       "      <td>-0.061701</td>\n",
       "    </tr>\n",
       "    <tr>\n",
       "      <th>2</th>\n",
       "      <td>SOCSTATUS_PENS_FL</td>\n",
       "      <td>-0.050093</td>\n",
       "    </tr>\n",
       "    <tr>\n",
       "      <th>0</th>\n",
       "      <td>AGE</td>\n",
       "      <td>-0.045314</td>\n",
       "    </tr>\n",
       "    <tr>\n",
       "      <th>6</th>\n",
       "      <td>PERSONAL_INCOME</td>\n",
       "      <td>0.000030</td>\n",
       "    </tr>\n",
       "    <tr>\n",
       "      <th>4</th>\n",
       "      <td>CHILD_TOTAL</td>\n",
       "      <td>0.237476</td>\n",
       "    </tr>\n",
       "  </tbody>\n",
       "</table>\n",
       "</div>"
      ],
      "text/plain": [
       "            features   weights\n",
       "1  SOCSTATUS_WORK_FL -0.271442\n",
       "5         DEPENDANTS -0.150109\n",
       "3             GENDER -0.103289\n",
       "7     LOAN_NUM_TOTAL -0.061701\n",
       "8    LOAN_NUM_CLOSED -0.061701\n",
       "2  SOCSTATUS_PENS_FL -0.050093\n",
       "0                AGE -0.045314\n",
       "6    PERSONAL_INCOME  0.000030\n",
       "4        CHILD_TOTAL  0.237476"
      ]
     },
     "execution_count": 22,
     "metadata": {},
     "output_type": "execute_result"
    }
   ],
   "source": [
    "coef_table = pd.DataFrame({'features': list(X_train.columns), 'weights': list(model.coef_[0])})\n",
    "coef_table.sort_values(by='weights')"
   ]
  },
  {
   "cell_type": "markdown",
   "metadata": {
    "id": "E6zYvAVE1Qfd"
   },
   "source": [
    "## Задание 2\n",
    "\n",
    "Добавьте в Streamlit-приложение визуализацию результатов модели:\n",
    "\n",
    "* опцию выбора порога и вывод метрик качества в зависимости от выбранного порога\n",
    "\n",
    "* вывод прогноза модели на выбранном объекте (клиенте) - вероятность отклика на рекламу."
   ]
  },
  {
   "cell_type": "code",
   "execution_count": 27,
   "metadata": {
    "id": "x_PQ60Uk-smD"
   },
   "outputs": [],
   "source": [
    "import pickle"
   ]
  },
  {
   "cell_type": "code",
   "execution_count": 28,
   "metadata": {
    "id": "OllCEqvg-xyS"
   },
   "outputs": [],
   "source": [
    "with open('model.pickle', 'wb') as f:\n",
    "  pickle.dump(model, f)"
   ]
  },
  {
   "cell_type": "markdown",
   "metadata": {
    "id": "XSXZmkTCy4IX"
   },
   "source": [
    "## Бонус\n",
    "\n",
    "Попробуйте применить другие модели классификации для решения этой задачи (любые какие знаете).\n",
    "\n",
    "Удалось ли добиться улучшения качества модели?"
   ]
  },
  {
   "cell_type": "code",
   "execution_count": null,
   "metadata": {
    "id": "nuYrKTE9zDlZ"
   },
   "outputs": [],
   "source": [
    "# your code here"
   ]
  },
  {
   "cell_type": "code",
   "execution_count": null,
   "metadata": {},
   "outputs": [],
   "source": [
    "# пришла рецензия на работу с стреамлитом. Поскольку курс разнообразен и уже давно забыл что нужно доделать \n",
    "#напоминаю себе: 1.Я не знаю как этот файл оказался в соседнем репозитории с чистым приложением (гит-баш наверное).\n",
    "\n",
    "# 3. streamlit строит графики на ходу. Осталось узнать почему приложении выбрасывало ошибку при импотрте сиборна.\n",
    "# 4. \n",
    "# 5. бд на postgres поднимай сразу в облаке из скриптов. из докера нифига не работает что на винде, что на деб, что в убунте. (не трать время.)\n",
    " #  и нет я сейчас в sqlite быстренько запросики посмотрю, то же не работает."
   ]
  },
  {
   "cell_type": "code",
   "execution_count": 2,
   "metadata": {},
   "outputs": [],
   "source": [
    "from sklearn import linear_model"
   ]
  },
  {
   "cell_type": "code",
   "execution_count": 3,
   "metadata": {},
   "outputs": [],
   "source": [
    "df = pd.read_csv('datasets/bank_clients.csv')\n",
    "# here we go again\n",
    "X = df.drop(['TARGET', 'AGREEMENT_RK'], axis=1)\n",
    "y = df['TARGET']"
   ]
  },
  {
   "cell_type": "code",
   "execution_count": 4,
   "metadata": {},
   "outputs": [],
   "source": [
    " #посмотрим на наивного байеса"
   ]
  },
  {
   "cell_type": "code",
   "execution_count": 6,
   "metadata": {},
   "outputs": [
    {
     "name": "stdout",
     "output_type": "stream",
     "text": [
      "Accuracy: 0.8636460782218423\n"
     ]
    }
   ],
   "source": [
    "from sklearn.model_selection import train_test_split\n",
    "from sklearn.naive_bayes import GaussianNB\n",
    "from sklearn.metrics import accuracy_score\n",
    " \n",
    "# Разделение данных на обучающую и тестовую выборки\n",
    "X_train, X_test, y_train, y_test = train_test_split(X, y, test_size=0.3, random_state=42)\n",
    " \n",
    "# Инициализация Gaussian Naive Bayes classifier\n",
    "gnb = GaussianNB()\n",
    " \n",
    "# Tтренируем модель\n",
    "gnb.fit(X_train, y_train)\n",
    " \n",
    "# предсказания для теста\n",
    "y_pred = gnb.predict(X_test)\n",
    " \n",
    "# вычисление \n",
    "accuracy = accuracy_score(y_test, y_pred)\n",
    "print(f'Accuracy: {accuracy}')"
   ]
  },
  {
   "cell_type": "code",
   "execution_count": 8,
   "metadata": {},
   "outputs": [
    {
     "name": "stdout",
     "output_type": "stream",
     "text": [
      "Precision: 0.23958333333333334\n",
      "Recall: 0.08550185873605948\n",
      "f1: 0.12602739726027398\n"
     ]
    }
   ],
   "source": [
    "from sklearn.metrics import accuracy_score, precision_score, recall_score, f1_score, confusion_matrix\n",
    "\n",
    "print(f\"Precision: {precision_score(y_test, y_pred)}\")\n",
    "print(f\"Recall: {recall_score(y_test, y_pred)}\")\n",
    "print(f\"f1: {f1_score(y_test, y_pred)}\")"
   ]
  },
  {
   "cell_type": "code",
   "execution_count": 15,
   "metadata": {},
   "outputs": [
    {
     "name": "stdout",
     "output_type": "stream",
     "text": [
      "<class 'pandas.core.frame.DataFrame'>\n",
      "RangeIndex: 15594 entries, 0 to 15593\n",
      "Data columns (total 11 columns):\n",
      " #   Column             Non-Null Count  Dtype  \n",
      "---  ------             --------------  -----  \n",
      " 0   AGREEMENT_RK       15594 non-null  int64  \n",
      " 1   AGE                15594 non-null  int64  \n",
      " 2   SOCSTATUS_WORK_FL  15594 non-null  int64  \n",
      " 3   SOCSTATUS_PENS_FL  15594 non-null  int64  \n",
      " 4   GENDER             15594 non-null  int64  \n",
      " 5   CHILD_TOTAL        15594 non-null  int64  \n",
      " 6   DEPENDANTS         15594 non-null  int64  \n",
      " 7   PERSONAL_INCOME    15594 non-null  float64\n",
      " 8   LOAN_NUM_TOTAL     15594 non-null  int64  \n",
      " 9   LOAN_NUM_CLOSED    15594 non-null  int64  \n",
      " 10  TARGET             15594 non-null  int64  \n",
      "dtypes: float64(1), int64(10)\n",
      "memory usage: 1.3 MB\n"
     ]
    }
   ],
   "source": [
    "df = pd.read_csv('datasets/bank_clients.csv')\n",
    "df.info()"
   ]
  },
  {
   "cell_type": "code",
   "execution_count": 16,
   "metadata": {},
   "outputs": [],
   "source": [
    "# we go again, and again\n",
    "X = df.drop(['TARGET', 'AGREEMENT_RK'], axis=1)\n",
    "y = df['TARGET']\n",
    "X_train, X_test, y_train, y_test = train_test_split(X , y, test_size=0.25, random_state=42)"
   ]
  },
  {
   "cell_type": "code",
   "execution_count": 17,
   "metadata": {},
   "outputs": [
    {
     "name": "stdout",
     "output_type": "stream",
     "text": [
      "Accuracy: 0.8217491664529366\n"
     ]
    }
   ],
   "source": [
    "from sklearn.tree import DecisionTreeClassifier\n",
    "\n",
    "dtc = DecisionTreeClassifier()\n",
    "dtc.fit(X_train, y_train)\n",
    "\n",
    "pred_dtc = dtc.predict(X_test)\n",
    "\n",
    "\n",
    "print(f'Accuracy: {accuracy_score(y_test, pred_dtc)}')\n"
   ]
  },
  {
   "cell_type": "code",
   "execution_count": 18,
   "metadata": {},
   "outputs": [
    {
     "name": "stdout",
     "output_type": "stream",
     "text": [
      "Precision: 0.1671388101983003\n",
      "Recall: 0.1282608695652174\n",
      "f1: 0.14514145141451415\n"
     ]
    }
   ],
   "source": [
    "print(f\"Precision: {precision_score(y_test, pred_dtc)}\")\n",
    "print(f\"Recall: {recall_score(y_test, pred_dtc)}\")\n",
    "print(f\"f1: {f1_score(y_test, pred_dtc)}\")"
   ]
  },
  {
   "cell_type": "code",
   "execution_count": 20,
   "metadata": {},
   "outputs": [],
   "source": [
    "df = pd.read_csv('datasets/bank_clients.csv')\n",
    "#df.info()\n",
    "# again, and again\n",
    "X = df.drop(['TARGET', 'AGREEMENT_RK'], axis=1)\n",
    "y = df['TARGET']\n",
    "X_train, X_test, y_train, y_test = train_test_split(X , y, test_size=0.25, random_state=42)"
   ]
  },
  {
   "cell_type": "code",
   "execution_count": 21,
   "metadata": {},
   "outputs": [],
   "source": [
    "# ну и конечно лес"
   ]
  },
  {
   "cell_type": "code",
   "execution_count": 22,
   "metadata": {},
   "outputs": [
    {
     "name": "stdout",
     "output_type": "stream",
     "text": [
      "Accuracy: 0.8504744806360606\n"
     ]
    }
   ],
   "source": [
    "from sklearn.ensemble import RandomForestClassifier\n",
    "\n",
    "rfc = RandomForestClassifier()\n",
    "rfc.fit(X_train, y_train)\n",
    "\n",
    "pred_rfc = rfc.predict(X_test)\n",
    "\n",
    "print(f'Accuracy: {accuracy_score(y_test, pred_rfc)}')"
   ]
  },
  {
   "cell_type": "code",
   "execution_count": 23,
   "metadata": {},
   "outputs": [
    {
     "name": "stdout",
     "output_type": "stream",
     "text": [
      "Precision: 0.16756756756756758\n",
      "Recall: 0.06739130434782609\n",
      "f1: 0.09612403100775194\n"
     ]
    }
   ],
   "source": [
    "print(f\"Precision: {precision_score(y_test, pred_rfc)}\")\n",
    "print(f\"Recall: {recall_score(y_test, pred_rfc)}\")\n",
    "print(f\"f1: {f1_score(y_test, pred_rfc)}\")"
   ]
  },
  {
   "cell_type": "code",
   "execution_count": null,
   "metadata": {},
   "outputs": [],
   "source": [
    "# ...."
   ]
  },
  {
   "cell_type": "code",
   "execution_count": null,
   "metadata": {},
   "outputs": [],
   "source": [
    "# не ну работа сдана, курс называется ЛИНЕЙНЫЕ Модели, занятие про интерпретацию еще впереди...."
   ]
  },
  {
   "cell_type": "code",
   "execution_count": 27,
   "metadata": {},
   "outputs": [
    {
     "data": {
      "text/plain": [
       "((11695, 9), (3899, 9))"
      ]
     },
     "execution_count": 27,
     "metadata": {},
     "output_type": "execute_result"
    }
   ],
   "source": [
    "df = pd.read_csv('datasets/bank_clients.csv')\n",
    "#df.info()\n",
    "# again, and again\n",
    "X = df.drop(['TARGET', 'AGREEMENT_RK'], axis=1)\n",
    "y = df['TARGET']\n",
    "X_train, X_test, y_train, y_test = train_test_split(X , y, test_size=0.25, random_state=42)\n",
    "X_train.shape, X_test.shape"
   ]
  },
  {
   "cell_type": "code",
   "execution_count": 28,
   "metadata": {},
   "outputs": [
    {
     "data": {
      "text/html": [
       "<div>\n",
       "<style scoped>\n",
       "    .dataframe tbody tr th:only-of-type {\n",
       "        vertical-align: middle;\n",
       "    }\n",
       "\n",
       "    .dataframe tbody tr th {\n",
       "        vertical-align: top;\n",
       "    }\n",
       "\n",
       "    .dataframe thead th {\n",
       "        text-align: right;\n",
       "    }\n",
       "</style>\n",
       "<table border=\"1\" class=\"dataframe\">\n",
       "  <thead>\n",
       "    <tr style=\"text-align: right;\">\n",
       "      <th></th>\n",
       "      <th>AGE</th>\n",
       "      <th>SOCSTATUS_WORK_FL</th>\n",
       "      <th>SOCSTATUS_PENS_FL</th>\n",
       "      <th>GENDER</th>\n",
       "      <th>CHILD_TOTAL</th>\n",
       "      <th>DEPENDANTS</th>\n",
       "      <th>PERSONAL_INCOME</th>\n",
       "      <th>LOAN_NUM_TOTAL</th>\n",
       "      <th>LOAN_NUM_CLOSED</th>\n",
       "    </tr>\n",
       "  </thead>\n",
       "  <tbody>\n",
       "    <tr>\n",
       "      <th>0</th>\n",
       "      <td>0.152174</td>\n",
       "      <td>1.0</td>\n",
       "      <td>0.0</td>\n",
       "      <td>1.0</td>\n",
       "      <td>0.1</td>\n",
       "      <td>0.166667</td>\n",
       "      <td>0.060</td>\n",
       "      <td>0.090909</td>\n",
       "      <td>0.090909</td>\n",
       "    </tr>\n",
       "    <tr>\n",
       "      <th>1</th>\n",
       "      <td>0.782609</td>\n",
       "      <td>0.0</td>\n",
       "      <td>1.0</td>\n",
       "      <td>1.0</td>\n",
       "      <td>0.1</td>\n",
       "      <td>0.166667</td>\n",
       "      <td>0.018</td>\n",
       "      <td>0.272727</td>\n",
       "      <td>0.272727</td>\n",
       "    </tr>\n",
       "    <tr>\n",
       "      <th>2</th>\n",
       "      <td>0.239130</td>\n",
       "      <td>1.0</td>\n",
       "      <td>0.0</td>\n",
       "      <td>0.0</td>\n",
       "      <td>0.1</td>\n",
       "      <td>0.166667</td>\n",
       "      <td>0.080</td>\n",
       "      <td>0.090909</td>\n",
       "      <td>0.090909</td>\n",
       "    </tr>\n",
       "    <tr>\n",
       "      <th>3</th>\n",
       "      <td>0.891304</td>\n",
       "      <td>0.0</td>\n",
       "      <td>1.0</td>\n",
       "      <td>1.0</td>\n",
       "      <td>0.0</td>\n",
       "      <td>0.000000</td>\n",
       "      <td>0.012</td>\n",
       "      <td>0.090909</td>\n",
       "      <td>0.090909</td>\n",
       "    </tr>\n",
       "    <tr>\n",
       "      <th>4</th>\n",
       "      <td>0.282609</td>\n",
       "      <td>1.0</td>\n",
       "      <td>0.0</td>\n",
       "      <td>0.0</td>\n",
       "      <td>0.2</td>\n",
       "      <td>0.333333</td>\n",
       "      <td>0.038</td>\n",
       "      <td>0.181818</td>\n",
       "      <td>0.181818</td>\n",
       "    </tr>\n",
       "  </tbody>\n",
       "</table>\n",
       "</div>"
      ],
      "text/plain": [
       "        AGE  SOCSTATUS_WORK_FL  SOCSTATUS_PENS_FL  GENDER  CHILD_TOTAL  \\\n",
       "0  0.152174                1.0                0.0     1.0          0.1   \n",
       "1  0.782609                0.0                1.0     1.0          0.1   \n",
       "2  0.239130                1.0                0.0     0.0          0.1   \n",
       "3  0.891304                0.0                1.0     1.0          0.0   \n",
       "4  0.282609                1.0                0.0     0.0          0.2   \n",
       "\n",
       "   DEPENDANTS  PERSONAL_INCOME  LOAN_NUM_TOTAL  LOAN_NUM_CLOSED  \n",
       "0    0.166667            0.060        0.090909         0.090909  \n",
       "1    0.166667            0.018        0.272727         0.272727  \n",
       "2    0.166667            0.080        0.090909         0.090909  \n",
       "3    0.000000            0.012        0.090909         0.090909  \n",
       "4    0.333333            0.038        0.181818         0.181818  "
      ]
     },
     "execution_count": 28,
     "metadata": {},
     "output_type": "execute_result"
    }
   ],
   "source": [
    "from sklearn.preprocessing import MinMaxScaler\n",
    "\n",
    "mms = MinMaxScaler()\n",
    "mms.fit(X_train) # вычислить min, max по каждому столбцу\n",
    "\n",
    "X_train = pd.DataFrame(ss.transform(X_train), columns=X_train.columns)\n",
    "X_test = pd.DataFrame(ss.transform(X_test), columns=X_test.columns)\n",
    "\n",
    "X_train.head()"
   ]
  },
  {
   "cell_type": "code",
   "execution_count": null,
   "metadata": {},
   "outputs": [],
   "source": [
    "#Повторно построим модель логистической регрессии"
   ]
  },
  {
   "cell_type": "code",
   "execution_count": 29,
   "metadata": {},
   "outputs": [],
   "source": [
    "from sklearn.linear_model import LogisticRegression\n",
    "\n",
    "lr = LogisticRegression(max_iter=5000)\n",
    "\n",
    "lr.fit(X_train, y_train)\n",
    "\n",
    "pred = lr.predict(X_test)"
   ]
  },
  {
   "cell_type": "code",
   "execution_count": 30,
   "metadata": {},
   "outputs": [
    {
     "data": {
      "text/html": [
       "<div>\n",
       "<style scoped>\n",
       "    .dataframe tbody tr th:only-of-type {\n",
       "        vertical-align: middle;\n",
       "    }\n",
       "\n",
       "    .dataframe tbody tr th {\n",
       "        vertical-align: top;\n",
       "    }\n",
       "\n",
       "    .dataframe thead th {\n",
       "        text-align: right;\n",
       "    }\n",
       "</style>\n",
       "<table border=\"1\" class=\"dataframe\">\n",
       "  <thead>\n",
       "    <tr style=\"text-align: right;\">\n",
       "      <th></th>\n",
       "      <th>weights</th>\n",
       "      <th>features</th>\n",
       "    </tr>\n",
       "  </thead>\n",
       "  <tbody>\n",
       "    <tr>\n",
       "      <th>0</th>\n",
       "      <td>-1.223560</td>\n",
       "      <td>AGE</td>\n",
       "    </tr>\n",
       "    <tr>\n",
       "      <th>7</th>\n",
       "      <td>-0.510138</td>\n",
       "      <td>LOAN_NUM_TOTAL</td>\n",
       "    </tr>\n",
       "    <tr>\n",
       "      <th>8</th>\n",
       "      <td>-0.510138</td>\n",
       "      <td>LOAN_NUM_CLOSED</td>\n",
       "    </tr>\n",
       "    <tr>\n",
       "      <th>2</th>\n",
       "      <td>-0.216640</td>\n",
       "      <td>SOCSTATUS_PENS_FL</td>\n",
       "    </tr>\n",
       "    <tr>\n",
       "      <th>3</th>\n",
       "      <td>-0.013605</td>\n",
       "      <td>GENDER</td>\n",
       "    </tr>\n",
       "    <tr>\n",
       "      <th>5</th>\n",
       "      <td>0.052033</td>\n",
       "      <td>DEPENDANTS</td>\n",
       "    </tr>\n",
       "    <tr>\n",
       "      <th>1</th>\n",
       "      <td>0.457631</td>\n",
       "      <td>SOCSTATUS_WORK_FL</td>\n",
       "    </tr>\n",
       "    <tr>\n",
       "      <th>4</th>\n",
       "      <td>1.064210</td>\n",
       "      <td>CHILD_TOTAL</td>\n",
       "    </tr>\n",
       "    <tr>\n",
       "      <th>6</th>\n",
       "      <td>5.023697</td>\n",
       "      <td>PERSONAL_INCOME</td>\n",
       "    </tr>\n",
       "  </tbody>\n",
       "</table>\n",
       "</div>"
      ],
      "text/plain": [
       "    weights           features\n",
       "0 -1.223560                AGE\n",
       "7 -0.510138     LOAN_NUM_TOTAL\n",
       "8 -0.510138    LOAN_NUM_CLOSED\n",
       "2 -0.216640  SOCSTATUS_PENS_FL\n",
       "3 -0.013605             GENDER\n",
       "5  0.052033         DEPENDANTS\n",
       "1  0.457631  SOCSTATUS_WORK_FL\n",
       "4  1.064210        CHILD_TOTAL\n",
       "6  5.023697    PERSONAL_INCOME"
      ]
     },
     "execution_count": 30,
     "metadata": {},
     "output_type": "execute_result"
    }
   ],
   "source": [
    "importances = pd.DataFrame({'weights': lr.coef_[0], 'features': X_train.columns}).sort_values(by='weights')\n",
    "importances"
   ]
  },
  {
   "cell_type": "code",
   "execution_count": 31,
   "metadata": {},
   "outputs": [
    {
     "data": {
      "text/plain": [
       "0.8809951269556296"
      ]
     },
     "execution_count": 31,
     "metadata": {},
     "output_type": "execute_result"
    }
   ],
   "source": [
    "accuracy_score(y_test, pred)"
   ]
  },
  {
   "cell_type": "code",
   "execution_count": null,
   "metadata": {},
   "outputs": [],
   "source": [
    "## воот"
   ]
  },
  {
   "cell_type": "code",
   "execution_count": null,
   "metadata": {},
   "outputs": [],
   "source": [
    "#import pickle\n",
    "\n",
    "#with open('model_mms.mw', 'wb') as file:\n",
    "#    pickle.dump(lr, file)"
   ]
  }
 ],
 "metadata": {
  "colab": {
   "provenance": []
  },
  "kernelspec": {
   "display_name": "Python 3 (ipykernel)",
   "language": "python",
   "name": "python3"
  },
  "language_info": {
   "codemirror_mode": {
    "name": "ipython",
    "version": 3
   },
   "file_extension": ".py",
   "mimetype": "text/x-python",
   "name": "python",
   "nbconvert_exporter": "python",
   "pygments_lexer": "ipython3",
   "version": "3.10.12"
  }
 },
 "nbformat": 4,
 "nbformat_minor": 1
}
